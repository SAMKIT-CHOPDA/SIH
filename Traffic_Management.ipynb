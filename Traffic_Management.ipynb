{
 "cells": [
  {
   "cell_type": "code",
   "execution_count": 1,
   "id": "a6a1ad99-1534-4759-8bc8-7b80cda10221",
   "metadata": {},
   "outputs": [
    {
     "name": "stderr",
     "output_type": "stream",
     "text": [
      "Using cache found in C:\\Users\\samki/.cache\\torch\\hub\\ultralytics_yolov5_master\n",
      "YOLOv5  2024-8-22 Python-3.12.5 torch-2.4.0+cpu CPU\n",
      "\n",
      "Fusing layers... \n",
      "YOLOv5m summary: 290 layers, 21172173 parameters, 0 gradients, 48.9 GFLOPs\n",
      "Adding AutoShape... \n"
     ]
    },
    {
     "name": "stdout",
     "output_type": "stream",
     "text": [
      " * Serving Flask app '__main__'\n",
      " * Debug mode: off\n"
     ]
    },
    {
     "name": "stderr",
     "output_type": "stream",
     "text": [
      "WARNING: This is a development server. Do not use it in a production deployment. Use a production WSGI server instead.\n",
      " * Running on all addresses (0.0.0.0)\n",
      " * Running on http://127.0.0.1:5000\n",
      " * Running on http://192.168.110.26:5000\n",
      "Press CTRL+C to quit\n"
     ]
    },
    {
     "name": "stdout",
     "output_type": "stream",
     "text": [
      "Lane 1: 4.01 sec green + 3 sec yellow vehicles 2\n",
      "Lane 1 yellow light on.\n",
      "Lane 1 red light on.\n",
      "Lane 2: 10.05 sec green + 3 sec yellow vehicles 8\n"
     ]
    },
    {
     "name": "stderr",
     "output_type": "stream",
     "text": [
      "192.168.110.26 - - [14/Sep/2024 13:02:41] \"GET / HTTP/1.1\" 200 -\n",
      "192.168.110.26 - - [14/Sep/2024 13:02:41] \"GET /current_image HTTP/1.1\" 200 -\n",
      "192.168.110.26 - - [14/Sep/2024 13:02:42] \"GET /lane_status HTTP/1.1\" 200 -\n",
      "192.168.110.26 - - [14/Sep/2024 13:02:42] \"GET /current_image?1726299162504 HTTP/1.1\" 200 -\n",
      "192.168.110.26 - - [14/Sep/2024 13:02:43] \"GET /lane_status HTTP/1.1\" 200 -\n",
      "192.168.110.26 - - [14/Sep/2024 13:02:43] \"GET /current_image?1726299163506 HTTP/1.1\" 200 -\n",
      "192.168.110.26 - - [14/Sep/2024 13:02:44] \"GET /lane_status HTTP/1.1\" 200 -\n",
      "192.168.110.26 - - [14/Sep/2024 13:02:44] \"GET /current_image?1726299164498 HTTP/1.1\" 200 -\n"
     ]
    },
    {
     "name": "stdout",
     "output_type": "stream",
     "text": [
      "Lane 2 yellow light on.\n"
     ]
    },
    {
     "name": "stderr",
     "output_type": "stream",
     "text": [
      "192.168.110.26 - - [14/Sep/2024 13:02:45] \"GET /lane_status HTTP/1.1\" 200 -\n",
      "192.168.110.26 - - [14/Sep/2024 13:02:45] \"GET /current_image?1726299165510 HTTP/1.1\" 200 -\n",
      "192.168.110.26 - - [14/Sep/2024 13:02:46] \"GET /current_image?1726299166501 HTTP/1.1\" 200 -\n",
      "192.168.110.26 - - [14/Sep/2024 13:02:46] \"GET /lane_status HTTP/1.1\" 200 -\n",
      "192.168.110.26 - - [14/Sep/2024 13:02:47] \"GET /current_image?1726299167506 HTTP/1.1\" 200 -\n",
      "192.168.110.26 - - [14/Sep/2024 13:02:47] \"GET /lane_status HTTP/1.1\" 200 -\n"
     ]
    },
    {
     "name": "stdout",
     "output_type": "stream",
     "text": [
      "Lane 2 red light on.\n"
     ]
    },
    {
     "name": "stderr",
     "output_type": "stream",
     "text": [
      "192.168.110.26 - - [14/Sep/2024 13:02:48] \"GET /lane_status HTTP/1.1\" 200 -\n",
      "192.168.110.26 - - [14/Sep/2024 13:02:48] \"GET /current_image?1726299168512 HTTP/1.1\" 200 -\n"
     ]
    },
    {
     "name": "stdout",
     "output_type": "stream",
     "text": [
      "Lane 3: 18.11 sec green + 3 sec yellow vehicles 16\n"
     ]
    },
    {
     "name": "stderr",
     "output_type": "stream",
     "text": [
      "192.168.110.26 - - [14/Sep/2024 13:02:49] \"GET /current_image?1726299169500 HTTP/1.1\" 200 -\n",
      "192.168.110.26 - - [14/Sep/2024 13:02:49] \"GET /lane_status HTTP/1.1\" 200 -\n",
      "192.168.110.26 - - [14/Sep/2024 13:02:50] \"GET /current_image?1726299170504 HTTP/1.1\" 200 -\n",
      "192.168.110.26 - - [14/Sep/2024 13:02:50] \"GET /lane_status HTTP/1.1\" 200 -\n",
      "192.168.110.26 - - [14/Sep/2024 13:02:51] \"GET /current_image?1726299171503 HTTP/1.1\" 200 -\n",
      "192.168.110.26 - - [14/Sep/2024 13:02:51] \"GET /lane_status HTTP/1.1\" 200 -\n",
      "192.168.110.26 - - [14/Sep/2024 13:02:52] \"GET /lane_status HTTP/1.1\" 200 -\n",
      "192.168.110.26 - - [14/Sep/2024 13:02:52] \"GET /current_image?1726299172502 HTTP/1.1\" 200 -\n",
      "192.168.110.26 - - [14/Sep/2024 13:02:53] \"GET /lane_status HTTP/1.1\" 200 -\n",
      "192.168.110.26 - - [14/Sep/2024 13:02:53] \"GET /current_image?1726299173502 HTTP/1.1\" 200 -\n",
      "192.168.110.26 - - [14/Sep/2024 13:02:54] \"GET /lane_status HTTP/1.1\" 200 -\n",
      "192.168.110.26 - - [14/Sep/2024 13:02:54] \"GET /current_image?1726299174512 HTTP/1.1\" 200 -\n",
      "192.168.110.26 - - [14/Sep/2024 13:02:56] \"GET /lane_status HTTP/1.1\" 200 -\n",
      "192.168.110.26 - - [14/Sep/2024 13:02:56] \"GET /current_image?1726299176064 HTTP/1.1\" 200 -\n",
      "192.168.110.26 - - [14/Sep/2024 13:02:57] \"GET /lane_status HTTP/1.1\" 200 -\n",
      "192.168.110.26 - - [14/Sep/2024 13:02:57] \"GET /current_image?1726299177064 HTTP/1.1\" 200 -\n",
      "192.168.110.26 - - [14/Sep/2024 13:02:58] \"GET /lane_status HTTP/1.1\" 200 -\n",
      "192.168.110.26 - - [14/Sep/2024 13:02:58] \"GET /current_image?1726299178085 HTTP/1.1\" 200 -\n",
      "192.168.110.26 - - [14/Sep/2024 13:02:59] \"GET /lane_status HTTP/1.1\" 200 -\n",
      "192.168.110.26 - - [14/Sep/2024 13:02:59] \"GET /current_image?1726299179063 HTTP/1.1\" 200 -\n",
      "192.168.110.26 - - [14/Sep/2024 13:03:00] \"GET /lane_status HTTP/1.1\" 200 -\n",
      "192.168.110.26 - - [14/Sep/2024 13:03:00] \"GET /current_image?1726299180067 HTTP/1.1\" 200 -\n",
      "192.168.110.26 - - [14/Sep/2024 13:03:01] \"GET /lane_status HTTP/1.1\" 200 -\n",
      "192.168.110.26 - - [14/Sep/2024 13:03:01] \"GET /current_image?1726299181080 HTTP/1.1\" 200 -\n",
      "192.168.110.26 - - [14/Sep/2024 13:03:01] \"GET /lane_status HTTP/1.1\" 200 -\n",
      "192.168.110.26 - - [14/Sep/2024 13:03:01] \"GET /current_image?1726299181500 HTTP/1.1\" 200 -\n",
      "192.168.110.26 - - [14/Sep/2024 13:03:02] \"GET /lane_status HTTP/1.1\" 200 -\n",
      "192.168.110.26 - - [14/Sep/2024 13:03:02] \"GET /current_image?1726299182497 HTTP/1.1\" 200 -\n",
      "192.168.110.26 - - [14/Sep/2024 13:03:03] \"GET /lane_status HTTP/1.1\" 200 -\n",
      "192.168.110.26 - - [14/Sep/2024 13:03:03] \"GET /current_image?1726299183496 HTTP/1.1\" 200 -\n",
      "192.168.110.26 - - [14/Sep/2024 13:03:04] \"GET /current_image?1726299184507 HTTP/1.1\" 200 -\n",
      "192.168.110.26 - - [14/Sep/2024 13:03:04] \"GET /lane_status HTTP/1.1\" 200 -\n",
      "192.168.110.26 - - [14/Sep/2024 13:03:05] \"GET /lane_status HTTP/1.1\" 200 -\n",
      "192.168.110.26 - - [14/Sep/2024 13:03:05] \"GET /current_image?1726299185500 HTTP/1.1\" 200 -\n",
      "192.168.110.26 - - [14/Sep/2024 13:03:06] \"GET /lane_status HTTP/1.1\" 200 -\n",
      "192.168.110.26 - - [14/Sep/2024 13:03:06] \"GET /current_image?1726299186512 HTTP/1.1\" 200 -\n"
     ]
    },
    {
     "name": "stdout",
     "output_type": "stream",
     "text": [
      "Lane 3 yellow light on.\n"
     ]
    },
    {
     "name": "stderr",
     "output_type": "stream",
     "text": [
      "192.168.110.26 - - [14/Sep/2024 13:03:07] \"GET /current_image?1726299187502 HTTP/1.1\" 200 -\n",
      "192.168.110.26 - - [14/Sep/2024 13:03:07] \"GET /lane_status HTTP/1.1\" 200 -\n",
      "192.168.110.26 - - [14/Sep/2024 13:03:08] \"GET /lane_status HTTP/1.1\" 200 -\n",
      "192.168.110.26 - - [14/Sep/2024 13:03:08] \"GET /current_image?1726299188514 HTTP/1.1\" 200 -\n",
      "192.168.110.26 - - [14/Sep/2024 13:03:09] \"GET /current_image?1726299189499 HTTP/1.1\" 200 -\n",
      "192.168.110.26 - - [14/Sep/2024 13:03:09] \"GET /lane_status HTTP/1.1\" 200 -\n"
     ]
    },
    {
     "name": "stdout",
     "output_type": "stream",
     "text": [
      "Lane 3 red light on.\n"
     ]
    },
    {
     "name": "stderr",
     "output_type": "stream",
     "text": [
      "192.168.110.26 - - [14/Sep/2024 13:03:10] \"GET /current_image?1726299190511 HTTP/1.1\" 200 -\n",
      "192.168.110.26 - - [14/Sep/2024 13:03:10] \"GET /lane_status HTTP/1.1\" 200 -\n"
     ]
    },
    {
     "name": "stdout",
     "output_type": "stream",
     "text": [
      "Lane 4: 8.04 sec green + 3 sec yellow vehicles 6\n"
     ]
    },
    {
     "name": "stderr",
     "output_type": "stream",
     "text": [
      "192.168.110.26 - - [14/Sep/2024 13:03:11] \"GET /lane_status HTTP/1.1\" 200 -\n",
      "192.168.110.26 - - [14/Sep/2024 13:03:11] \"GET /current_image?1726299191501 HTTP/1.1\" 200 -\n",
      "192.168.110.26 - - [14/Sep/2024 13:03:12] \"GET /current_image?1726299192500 HTTP/1.1\" 200 -\n",
      "192.168.110.26 - - [14/Sep/2024 13:03:12] \"GET /lane_status HTTP/1.1\" 200 -\n",
      "192.168.110.26 - - [14/Sep/2024 13:03:13] \"GET /current_image?1726299193506 HTTP/1.1\" 200 -\n",
      "192.168.110.26 - - [14/Sep/2024 13:03:13] \"GET /lane_status HTTP/1.1\" 200 -\n",
      "192.168.110.26 - - [14/Sep/2024 13:03:14] \"GET /lane_status HTTP/1.1\" 200 -\n",
      "192.168.110.26 - - [14/Sep/2024 13:03:14] \"GET /current_image?1726299194504 HTTP/1.1\" 200 -\n",
      "192.168.110.26 - - [14/Sep/2024 13:03:15] \"GET /current_image?1726299195503 HTTP/1.1\" 200 -\n",
      "192.168.110.26 - - [14/Sep/2024 13:03:15] \"GET /lane_status HTTP/1.1\" 200 -\n",
      "192.168.110.26 - - [14/Sep/2024 13:03:16] \"GET /lane_status HTTP/1.1\" 200 -\n",
      "192.168.110.26 - - [14/Sep/2024 13:03:16] \"GET /current_image?1726299196502 HTTP/1.1\" 200 -\n",
      "192.168.110.26 - - [14/Sep/2024 13:03:17] \"GET /current_image?1726299197502 HTTP/1.1\" 200 -\n",
      "192.168.110.26 - - [14/Sep/2024 13:03:17] \"GET /lane_status HTTP/1.1\" 200 -\n",
      "192.168.110.26 - - [14/Sep/2024 13:03:18] \"GET /lane_status HTTP/1.1\" 200 -\n",
      "192.168.110.26 - - [14/Sep/2024 13:03:18] \"GET /current_image?1726299198504 HTTP/1.1\" 200 -\n"
     ]
    },
    {
     "name": "stdout",
     "output_type": "stream",
     "text": [
      "Lane 4 yellow light on.\n"
     ]
    },
    {
     "name": "stderr",
     "output_type": "stream",
     "text": [
      "192.168.110.26 - - [14/Sep/2024 13:03:19] \"GET /lane_status HTTP/1.1\" 200 -\n",
      "192.168.110.26 - - [14/Sep/2024 13:03:19] \"GET /current_image?1726299199512 HTTP/1.1\" 200 -\n",
      "192.168.110.26 - - [14/Sep/2024 13:03:20] \"GET /lane_status HTTP/1.1\" 200 -\n",
      "192.168.110.26 - - [14/Sep/2024 13:03:20] \"GET /current_image?1726299200512 HTTP/1.1\" 200 -\n",
      "192.168.110.26 - - [14/Sep/2024 13:03:21] \"GET /current_image?1726299201499 HTTP/1.1\" 200 -\n",
      "192.168.110.26 - - [14/Sep/2024 13:03:21] \"GET /lane_status HTTP/1.1\" 200 -\n"
     ]
    },
    {
     "name": "stdout",
     "output_type": "stream",
     "text": [
      "Lane 4 red light on.\n",
      "Completed one full cycle of lane processing.\n",
      "\n",
      "Total time for this iteration: 52.22 seconds\n",
      "\n"
     ]
    },
    {
     "name": "stderr",
     "output_type": "stream",
     "text": [
      "192.168.110.26 - - [14/Sep/2024 13:03:22] \"GET /current_image?1726299202496 HTTP/1.1\" 200 -\n",
      "192.168.110.26 - - [14/Sep/2024 13:03:22] \"GET /lane_status HTTP/1.1\" 200 -\n"
     ]
    },
    {
     "name": "stdout",
     "output_type": "stream",
     "text": [
      "Lane 1: 17.11 sec green + 3 sec yellow vehicles 15\n"
     ]
    },
    {
     "name": "stderr",
     "output_type": "stream",
     "text": [
      "192.168.110.26 - - [14/Sep/2024 13:03:23] \"GET /lane_status HTTP/1.1\" 200 -\n",
      "192.168.110.26 - - [14/Sep/2024 13:03:23] \"GET /current_image?1726299203508 HTTP/1.1\" 200 -\n",
      "192.168.110.26 - - [14/Sep/2024 13:03:24] \"GET /lane_status HTTP/1.1\" 200 -\n",
      "192.168.110.26 - - [14/Sep/2024 13:03:24] \"GET /current_image?1726299204502 HTTP/1.1\" 200 -\n",
      "192.168.110.26 - - [14/Sep/2024 13:03:25] \"GET /current_image?1726299205500 HTTP/1.1\" 200 -\n",
      "192.168.110.26 - - [14/Sep/2024 13:03:25] \"GET /lane_status HTTP/1.1\" 200 -\n",
      "192.168.110.26 - - [14/Sep/2024 13:03:26] \"GET /current_image?1726299206502 HTTP/1.1\" 200 -\n",
      "192.168.110.26 - - [14/Sep/2024 13:03:26] \"GET /lane_status HTTP/1.1\" 200 -\n",
      "192.168.110.26 - - [14/Sep/2024 13:03:27] \"GET /current_image?1726299207508 HTTP/1.1\" 200 -\n",
      "192.168.110.26 - - [14/Sep/2024 13:03:27] \"GET /lane_status HTTP/1.1\" 200 -\n",
      "192.168.110.26 - - [14/Sep/2024 13:03:28] \"GET /lane_status HTTP/1.1\" 200 -\n",
      "192.168.110.26 - - [14/Sep/2024 13:03:28] \"GET /current_image?1726299208505 HTTP/1.1\" 200 -\n",
      "192.168.110.26 - - [14/Sep/2024 13:03:29] \"GET /lane_status HTTP/1.1\" 200 -\n",
      "192.168.110.26 - - [14/Sep/2024 13:03:29] \"GET /current_image?1726299209504 HTTP/1.1\" 200 -\n",
      "192.168.110.26 - - [14/Sep/2024 13:03:30] \"GET /lane_status HTTP/1.1\" 200 -\n",
      "192.168.110.26 - - [14/Sep/2024 13:03:30] \"GET /current_image?1726299210511 HTTP/1.1\" 200 -\n",
      "192.168.110.26 - - [14/Sep/2024 13:03:31] \"GET /lane_status HTTP/1.1\" 200 -\n",
      "192.168.110.26 - - [14/Sep/2024 13:03:31] \"GET /current_image?1726299211516 HTTP/1.1\" 200 -\n",
      "192.168.110.26 - - [14/Sep/2024 13:03:32] \"GET /lane_status HTTP/1.1\" 200 -\n",
      "192.168.110.26 - - [14/Sep/2024 13:03:32] \"GET /current_image?1726299212515 HTTP/1.1\" 200 -\n",
      "192.168.110.26 - - [14/Sep/2024 13:03:33] \"GET /lane_status HTTP/1.1\" 200 -\n",
      "192.168.110.26 - - [14/Sep/2024 13:03:33] \"GET /current_image?1726299213504 HTTP/1.1\" 200 -\n",
      "192.168.110.26 - - [14/Sep/2024 13:03:34] \"GET /lane_status HTTP/1.1\" 200 -\n",
      "192.168.110.26 - - [14/Sep/2024 13:03:34] \"GET /current_image?1726299214509 HTTP/1.1\" 200 -\n",
      "192.168.110.26 - - [14/Sep/2024 13:03:35] \"GET /lane_status HTTP/1.1\" 200 -\n",
      "192.168.110.26 - - [14/Sep/2024 13:03:35] \"GET /current_image?1726299215506 HTTP/1.1\" 200 -\n",
      "192.168.110.26 - - [14/Sep/2024 13:03:36] \"GET /lane_status HTTP/1.1\" 200 -\n",
      "192.168.110.26 - - [14/Sep/2024 13:03:36] \"GET /current_image?1726299216511 HTTP/1.1\" 200 -\n",
      "192.168.110.26 - - [14/Sep/2024 13:03:37] \"GET /current_image?1726299217512 HTTP/1.1\" 200 -\n",
      "192.168.110.26 - - [14/Sep/2024 13:03:37] \"GET /lane_status HTTP/1.1\" 200 -\n",
      "192.168.110.26 - - [14/Sep/2024 13:03:38] \"GET /lane_status HTTP/1.1\" 200 -\n",
      "192.168.110.26 - - [14/Sep/2024 13:03:38] \"GET /current_image?1726299218511 HTTP/1.1\" 200 -\n",
      "192.168.110.26 - - [14/Sep/2024 13:03:39] \"GET /lane_status HTTP/1.1\" 200 -\n",
      "192.168.110.26 - - [14/Sep/2024 13:03:39] \"GET /current_image?1726299219507 HTTP/1.1\" 200 -\n"
     ]
    },
    {
     "name": "stdout",
     "output_type": "stream",
     "text": [
      "Lane 1 yellow light on.\n"
     ]
    },
    {
     "name": "stderr",
     "output_type": "stream",
     "text": [
      "192.168.110.26 - - [14/Sep/2024 13:03:40] \"GET /lane_status HTTP/1.1\" 200 -\n",
      "192.168.110.26 - - [14/Sep/2024 13:03:40] \"GET /current_image?1726299220518 HTTP/1.1\" 200 -\n",
      "192.168.110.26 - - [14/Sep/2024 13:03:41] \"GET /lane_status HTTP/1.1\" 200 -\n",
      "192.168.110.26 - - [14/Sep/2024 13:03:41] \"GET /current_image?1726299221513 HTTP/1.1\" 200 -\n",
      "192.168.110.26 - - [14/Sep/2024 13:03:42] \"GET /lane_status HTTP/1.1\" 200 -\n",
      "192.168.110.26 - - [14/Sep/2024 13:03:42] \"GET /current_image?1726299222510 HTTP/1.1\" 200 -\n"
     ]
    },
    {
     "name": "stdout",
     "output_type": "stream",
     "text": [
      "Lane 1 red light on.\n",
      "Lane 2: 13.08 sec green + 3 sec yellow vehicles 11\n"
     ]
    },
    {
     "name": "stderr",
     "output_type": "stream",
     "text": [
      "192.168.110.26 - - [14/Sep/2024 13:03:43] \"GET /lane_status HTTP/1.1\" 200 -\n",
      "192.168.110.26 - - [14/Sep/2024 13:03:43] \"GET /current_image?1726299223515 HTTP/1.1\" 200 -\n",
      "192.168.110.26 - - [14/Sep/2024 13:03:44] \"GET /lane_status HTTP/1.1\" 200 -\n",
      "192.168.110.26 - - [14/Sep/2024 13:03:44] \"GET /current_image?1726299224511 HTTP/1.1\" 200 -\n",
      "192.168.110.26 - - [14/Sep/2024 13:03:45] \"GET /lane_status HTTP/1.1\" 200 -\n",
      "192.168.110.26 - - [14/Sep/2024 13:03:45] \"GET /current_image?1726299225507 HTTP/1.1\" 200 -\n",
      "192.168.110.26 - - [14/Sep/2024 13:03:46] \"GET /lane_status HTTP/1.1\" 200 -\n",
      "192.168.110.26 - - [14/Sep/2024 13:03:46] \"GET /current_image?1726299226504 HTTP/1.1\" 200 -\n",
      "192.168.110.26 - - [14/Sep/2024 13:03:47] \"GET /lane_status HTTP/1.1\" 200 -\n",
      "192.168.110.26 - - [14/Sep/2024 13:03:47] \"GET /current_image?1726299227515 HTTP/1.1\" 200 -\n",
      "192.168.110.26 - - [14/Sep/2024 13:03:48] \"GET /lane_status HTTP/1.1\" 200 -\n",
      "192.168.110.26 - - [14/Sep/2024 13:03:48] \"GET /current_image?1726299228505 HTTP/1.1\" 200 -\n",
      "192.168.110.26 - - [14/Sep/2024 13:03:49] \"GET /current_image?1726299229518 HTTP/1.1\" 200 -\n",
      "192.168.110.26 - - [14/Sep/2024 13:03:49] \"GET /lane_status HTTP/1.1\" 200 -\n",
      "192.168.110.26 - - [14/Sep/2024 13:03:50] \"GET /lane_status HTTP/1.1\" 200 -\n",
      "192.168.110.26 - - [14/Sep/2024 13:03:50] \"GET /current_image?1726299230508 HTTP/1.1\" 200 -\n",
      "192.168.110.26 - - [14/Sep/2024 13:03:51] \"GET /lane_status HTTP/1.1\" 200 -\n",
      "192.168.110.26 - - [14/Sep/2024 13:03:51] \"GET /current_image?1726299231505 HTTP/1.1\" 200 -\n",
      "192.168.110.26 - - [14/Sep/2024 13:03:52] \"GET /lane_status HTTP/1.1\" 200 -\n",
      "192.168.110.26 - - [14/Sep/2024 13:03:52] \"GET /current_image?1726299232518 HTTP/1.1\" 200 -\n",
      "192.168.110.26 - - [14/Sep/2024 13:03:53] \"GET /lane_status HTTP/1.1\" 200 -\n",
      "192.168.110.26 - - [14/Sep/2024 13:03:53] \"GET /current_image?1726299233513 HTTP/1.1\" 200 -\n",
      "192.168.110.26 - - [14/Sep/2024 13:03:54] \"GET /lane_status HTTP/1.1\" 200 -\n",
      "192.168.110.26 - - [14/Sep/2024 13:03:54] \"GET /current_image?1726299234513 HTTP/1.1\" 200 -\n",
      "192.168.110.26 - - [14/Sep/2024 13:03:55] \"GET /lane_status HTTP/1.1\" 200 -\n",
      "192.168.110.26 - - [14/Sep/2024 13:03:55] \"GET /current_image?1726299235507 HTTP/1.1\" 200 -\n",
      "192.168.110.26 - - [14/Sep/2024 13:03:56] \"GET /lane_status HTTP/1.1\" 200 -\n",
      "192.168.110.26 - - [14/Sep/2024 13:03:56] \"GET /current_image?1726299236515 HTTP/1.1\" 200 -\n"
     ]
    },
    {
     "name": "stdout",
     "output_type": "stream",
     "text": [
      "Lane 2 yellow light on.\n"
     ]
    },
    {
     "name": "stderr",
     "output_type": "stream",
     "text": [
      "192.168.110.26 - - [14/Sep/2024 13:03:57] \"GET /current_image?1726299237518 HTTP/1.1\" 200 -\n",
      "192.168.110.26 - - [14/Sep/2024 13:03:57] \"GET /lane_status HTTP/1.1\" 200 -\n",
      "192.168.110.26 - - [14/Sep/2024 13:03:58] \"GET /lane_status HTTP/1.1\" 200 -\n",
      "192.168.110.26 - - [14/Sep/2024 13:03:58] \"GET /current_image?1726299238514 HTTP/1.1\" 200 -\n",
      "192.168.110.26 - - [14/Sep/2024 13:03:59] \"GET /current_image?1726299239502 HTTP/1.1\" 200 -\n",
      "192.168.110.26 - - [14/Sep/2024 13:03:59] \"GET /lane_status HTTP/1.1\" 200 -\n"
     ]
    },
    {
     "name": "stdout",
     "output_type": "stream",
     "text": [
      "Lane 2 red light on.\n",
      "Lane 3: 35.00 sec green + 3 sec yellow vehicles 33\n"
     ]
    },
    {
     "name": "stderr",
     "output_type": "stream",
     "text": [
      "192.168.110.26 - - [14/Sep/2024 13:04:00] \"GET /lane_status HTTP/1.1\" 200 -\n",
      "192.168.110.26 - - [14/Sep/2024 13:04:00] \"GET /current_image?1726299240509 HTTP/1.1\" 200 -\n",
      "192.168.110.26 - - [14/Sep/2024 13:04:01] \"GET /lane_status HTTP/1.1\" 200 -\n",
      "192.168.110.26 - - [14/Sep/2024 13:04:01] \"GET /current_image?1726299241513 HTTP/1.1\" 200 -\n",
      "192.168.110.26 - - [14/Sep/2024 13:04:02] \"GET /current_image?1726299242516 HTTP/1.1\" 200 -\n",
      "192.168.110.26 - - [14/Sep/2024 13:04:02] \"GET /lane_status HTTP/1.1\" 200 -\n",
      "192.168.110.26 - - [14/Sep/2024 13:04:03] \"GET /current_image?1726299243504 HTTP/1.1\" 200 -\n",
      "192.168.110.26 - - [14/Sep/2024 13:04:03] \"GET /lane_status HTTP/1.1\" 200 -\n",
      "192.168.110.26 - - [14/Sep/2024 13:04:04] \"GET /lane_status HTTP/1.1\" 200 -\n",
      "192.168.110.26 - - [14/Sep/2024 13:04:04] \"GET /current_image?1726299244516 HTTP/1.1\" 200 -\n",
      "192.168.110.26 - - [14/Sep/2024 13:04:05] \"GET /current_image?1726299245509 HTTP/1.1\" 200 -\n",
      "192.168.110.26 - - [14/Sep/2024 13:04:05] \"GET /lane_status HTTP/1.1\" 200 -\n",
      "192.168.110.26 - - [14/Sep/2024 13:04:06] \"GET /current_image?1726299246520 HTTP/1.1\" 200 -\n",
      "192.168.110.26 - - [14/Sep/2024 13:04:06] \"GET /lane_status HTTP/1.1\" 200 -\n",
      "192.168.110.26 - - [14/Sep/2024 13:04:07] \"GET /current_image?1726299247506 HTTP/1.1\" 200 -\n",
      "192.168.110.26 - - [14/Sep/2024 13:04:07] \"GET /lane_status HTTP/1.1\" 200 -\n",
      "192.168.110.26 - - [14/Sep/2024 13:04:08] \"GET /current_image?1726299248515 HTTP/1.1\" 200 -\n",
      "192.168.110.26 - - [14/Sep/2024 13:04:08] \"GET /lane_status HTTP/1.1\" 200 -\n",
      "192.168.110.26 - - [14/Sep/2024 13:04:09] \"GET /lane_status HTTP/1.1\" 200 -\n",
      "192.168.110.26 - - [14/Sep/2024 13:04:09] \"GET /current_image?1726299249508 HTTP/1.1\" 200 -\n",
      "192.168.110.26 - - [14/Sep/2024 13:04:10] \"GET /lane_status HTTP/1.1\" 200 -\n",
      "192.168.110.26 - - [14/Sep/2024 13:04:10] \"GET /current_image?1726299250503 HTTP/1.1\" 200 -\n",
      "192.168.110.26 - - [14/Sep/2024 13:04:11] \"GET /lane_status HTTP/1.1\" 200 -\n",
      "192.168.110.26 - - [14/Sep/2024 13:04:11] \"GET /current_image?1726299251513 HTTP/1.1\" 200 -\n",
      "192.168.110.26 - - [14/Sep/2024 13:04:12] \"GET /lane_status HTTP/1.1\" 200 -\n",
      "192.168.110.26 - - [14/Sep/2024 13:04:12] \"GET /current_image?1726299252507 HTTP/1.1\" 200 -\n",
      "192.168.110.26 - - [14/Sep/2024 13:04:13] \"GET /current_image?1726299253504 HTTP/1.1\" 200 -\n",
      "192.168.110.26 - - [14/Sep/2024 13:04:13] \"GET /lane_status HTTP/1.1\" 200 -\n",
      "192.168.110.26 - - [14/Sep/2024 13:04:14] \"GET /current_image?1726299254516 HTTP/1.1\" 200 -\n",
      "192.168.110.26 - - [14/Sep/2024 13:04:14] \"GET /lane_status HTTP/1.1\" 200 -\n",
      "192.168.110.26 - - [14/Sep/2024 13:04:15] \"GET /lane_status HTTP/1.1\" 200 -\n",
      "192.168.110.26 - - [14/Sep/2024 13:04:15] \"GET /current_image?1726299255513 HTTP/1.1\" 200 -\n",
      "192.168.110.26 - - [14/Sep/2024 13:04:16] \"GET /lane_status HTTP/1.1\" 200 -\n",
      "192.168.110.26 - - [14/Sep/2024 13:04:16] \"GET /current_image?1726299256513 HTTP/1.1\" 200 -\n",
      "192.168.110.26 - - [14/Sep/2024 13:04:17] \"GET /lane_status HTTP/1.1\" 200 -\n",
      "192.168.110.26 - - [14/Sep/2024 13:04:17] \"GET /current_image?1726299257508 HTTP/1.1\" 200 -\n",
      "192.168.110.26 - - [14/Sep/2024 13:04:18] \"GET /lane_status HTTP/1.1\" 200 -\n",
      "192.168.110.26 - - [14/Sep/2024 13:04:18] \"GET /current_image?1726299258519 HTTP/1.1\" 200 -\n",
      "192.168.110.26 - - [14/Sep/2024 13:04:19] \"GET /lane_status HTTP/1.1\" 200 -\n",
      "192.168.110.26 - - [14/Sep/2024 13:04:19] \"GET /current_image?1726299259517 HTTP/1.1\" 200 -\n",
      "192.168.110.26 - - [14/Sep/2024 13:04:20] \"GET /lane_status HTTP/1.1\" 200 -\n",
      "192.168.110.26 - - [14/Sep/2024 13:04:20] \"GET /current_image?1726299260510 HTTP/1.1\" 200 -\n",
      "192.168.110.26 - - [14/Sep/2024 13:04:21] \"GET /lane_status HTTP/1.1\" 200 -\n",
      "192.168.110.26 - - [14/Sep/2024 13:04:21] \"GET /current_image?1726299261513 HTTP/1.1\" 200 -\n",
      "192.168.110.26 - - [14/Sep/2024 13:04:22] \"GET /current_image?1726299262502 HTTP/1.1\" 200 -\n",
      "192.168.110.26 - - [14/Sep/2024 13:04:22] \"GET /lane_status HTTP/1.1\" 200 -\n",
      "192.168.110.26 - - [14/Sep/2024 13:04:23] \"GET /lane_status HTTP/1.1\" 200 -\n",
      "192.168.110.26 - - [14/Sep/2024 13:04:23] \"GET /current_image?1726299263509 HTTP/1.1\" 200 -\n",
      "192.168.110.26 - - [14/Sep/2024 13:04:24] \"GET /current_image?1726299264509 HTTP/1.1\" 200 -\n",
      "192.168.110.26 - - [14/Sep/2024 13:04:24] \"GET /lane_status HTTP/1.1\" 200 -\n",
      "192.168.110.26 - - [14/Sep/2024 13:04:25] \"GET /current_image?1726299265512 HTTP/1.1\" 200 -\n",
      "192.168.110.26 - - [14/Sep/2024 13:04:25] \"GET /lane_status HTTP/1.1\" 200 -\n",
      "192.168.110.26 - - [14/Sep/2024 13:04:26] \"GET /lane_status HTTP/1.1\" 200 -\n",
      "192.168.110.26 - - [14/Sep/2024 13:04:26] \"GET /current_image?1726299266510 HTTP/1.1\" 200 -\n",
      "192.168.110.26 - - [14/Sep/2024 13:04:27] \"GET /current_image?1726299267508 HTTP/1.1\" 200 -\n",
      "192.168.110.26 - - [14/Sep/2024 13:04:27] \"GET /lane_status HTTP/1.1\" 200 -\n",
      "192.168.110.26 - - [14/Sep/2024 13:04:28] \"GET /lane_status HTTP/1.1\" 200 -\n",
      "192.168.110.26 - - [14/Sep/2024 13:04:28] \"GET /current_image?1726299268518 HTTP/1.1\" 200 -\n",
      "192.168.110.26 - - [14/Sep/2024 13:04:29] \"GET /current_image?1726299269503 HTTP/1.1\" 200 -\n",
      "192.168.110.26 - - [14/Sep/2024 13:04:29] \"GET /lane_status HTTP/1.1\" 200 -\n",
      "192.168.110.26 - - [14/Sep/2024 13:04:30] \"GET /lane_status HTTP/1.1\" 200 -\n",
      "192.168.110.26 - - [14/Sep/2024 13:04:30] \"GET /current_image?1726299270513 HTTP/1.1\" 200 -\n",
      "192.168.110.26 - - [14/Sep/2024 13:04:31] \"GET /lane_status HTTP/1.1\" 200 -\n",
      "192.168.110.26 - - [14/Sep/2024 13:04:31] \"GET /current_image?1726299271511 HTTP/1.1\" 200 -\n",
      "192.168.110.26 - - [14/Sep/2024 13:04:32] \"GET /current_image?1726299272502 HTTP/1.1\" 200 -\n",
      "192.168.110.26 - - [14/Sep/2024 13:04:32] \"GET /lane_status HTTP/1.1\" 200 -\n",
      "192.168.110.26 - - [14/Sep/2024 13:04:33] \"GET /lane_status HTTP/1.1\" 200 -\n",
      "192.168.110.26 - - [14/Sep/2024 13:04:33] \"GET /current_image?1726299273508 HTTP/1.1\" 200 -\n",
      "192.168.110.26 - - [14/Sep/2024 13:04:34] \"GET /lane_status HTTP/1.1\" 200 -\n",
      "192.168.110.26 - - [14/Sep/2024 13:04:34] \"GET /current_image?1726299274509 HTTP/1.1\" 200 -\n"
     ]
    },
    {
     "name": "stdout",
     "output_type": "stream",
     "text": [
      "Lane 3 yellow light on.\n"
     ]
    },
    {
     "name": "stderr",
     "output_type": "stream",
     "text": [
      "192.168.110.26 - - [14/Sep/2024 13:04:35] \"GET /current_image?1726299275503 HTTP/1.1\" 200 -\n",
      "192.168.110.26 - - [14/Sep/2024 13:04:35] \"GET /lane_status HTTP/1.1\" 200 -\n",
      "192.168.110.26 - - [14/Sep/2024 13:04:36] \"GET /current_image?1726299276509 HTTP/1.1\" 200 -\n",
      "192.168.110.26 - - [14/Sep/2024 13:04:36] \"GET /lane_status HTTP/1.1\" 200 -\n",
      "192.168.110.26 - - [14/Sep/2024 13:04:37] \"GET /current_image?1726299277513 HTTP/1.1\" 200 -\n",
      "192.168.110.26 - - [14/Sep/2024 13:04:37] \"GET /lane_status HTTP/1.1\" 200 -\n"
     ]
    },
    {
     "name": "stdout",
     "output_type": "stream",
     "text": [
      "Lane 3 red light on.\n"
     ]
    },
    {
     "name": "stderr",
     "output_type": "stream",
     "text": [
      "192.168.110.26 - - [14/Sep/2024 13:04:38] \"GET /lane_status HTTP/1.1\" 200 -\n",
      "192.168.110.26 - - [14/Sep/2024 13:04:38] \"GET /current_image?1726299278511 HTTP/1.1\" 200 -\n"
     ]
    },
    {
     "name": "stdout",
     "output_type": "stream",
     "text": [
      "Lane 4: 24.16 sec green + 3 sec yellow vehicles 22\n"
     ]
    },
    {
     "name": "stderr",
     "output_type": "stream",
     "text": [
      "192.168.110.26 - - [14/Sep/2024 13:04:39] \"GET /lane_status HTTP/1.1\" 200 -\n",
      "192.168.110.26 - - [14/Sep/2024 13:04:39] \"GET /current_image?1726299279508 HTTP/1.1\" 200 -\n",
      "192.168.110.26 - - [14/Sep/2024 13:04:40] \"GET /current_image?1726299280512 HTTP/1.1\" 200 -\n",
      "192.168.110.26 - - [14/Sep/2024 13:04:40] \"GET /lane_status HTTP/1.1\" 200 -\n",
      "192.168.110.26 - - [14/Sep/2024 13:04:41] \"GET /lane_status HTTP/1.1\" 200 -\n",
      "192.168.110.26 - - [14/Sep/2024 13:04:41] \"GET /current_image?1726299281510 HTTP/1.1\" 200 -\n",
      "192.168.110.26 - - [14/Sep/2024 13:04:42] \"GET /lane_status HTTP/1.1\" 200 -\n",
      "192.168.110.26 - - [14/Sep/2024 13:04:42] \"GET /current_image?1726299282506 HTTP/1.1\" 200 -\n",
      "192.168.110.26 - - [14/Sep/2024 13:04:43] \"GET /current_image?1726299283515 HTTP/1.1\" 200 -\n",
      "192.168.110.26 - - [14/Sep/2024 13:04:43] \"GET /lane_status HTTP/1.1\" 200 -\n",
      "192.168.110.26 - - [14/Sep/2024 13:04:44] \"GET /lane_status HTTP/1.1\" 200 -\n",
      "192.168.110.26 - - [14/Sep/2024 13:04:44] \"GET /current_image?1726299284505 HTTP/1.1\" 200 -\n",
      "192.168.110.26 - - [14/Sep/2024 13:04:45] \"GET /lane_status HTTP/1.1\" 200 -\n",
      "192.168.110.26 - - [14/Sep/2024 13:04:45] \"GET /current_image?1726299285503 HTTP/1.1\" 200 -\n",
      "192.168.110.26 - - [14/Sep/2024 13:04:46] \"GET /current_image?1726299286509 HTTP/1.1\" 200 -\n",
      "192.168.110.26 - - [14/Sep/2024 13:04:46] \"GET /lane_status HTTP/1.1\" 200 -\n",
      "192.168.110.26 - - [14/Sep/2024 13:04:47] \"GET /lane_status HTTP/1.1\" 200 -\n",
      "192.168.110.26 - - [14/Sep/2024 13:04:47] \"GET /current_image?1726299287514 HTTP/1.1\" 200 -\n",
      "192.168.110.26 - - [14/Sep/2024 13:04:48] \"GET /current_image?1726299288503 HTTP/1.1\" 200 -\n",
      "192.168.110.26 - - [14/Sep/2024 13:04:48] \"GET /lane_status HTTP/1.1\" 200 -\n",
      "192.168.110.26 - - [14/Sep/2024 13:04:49] \"GET /lane_status HTTP/1.1\" 200 -\n",
      "192.168.110.26 - - [14/Sep/2024 13:04:49] \"GET /current_image?1726299289515 HTTP/1.1\" 200 -\n",
      "192.168.110.26 - - [14/Sep/2024 13:04:50] \"GET /lane_status HTTP/1.1\" 200 -\n",
      "192.168.110.26 - - [14/Sep/2024 13:04:50] \"GET /current_image?1726299290507 HTTP/1.1\" 200 -\n",
      "192.168.110.26 - - [14/Sep/2024 13:04:51] \"GET /current_image?1726299291510 HTTP/1.1\" 200 -\n",
      "192.168.110.26 - - [14/Sep/2024 13:04:51] \"GET /lane_status HTTP/1.1\" 200 -\n",
      "192.168.110.26 - - [14/Sep/2024 13:04:52] \"GET /current_image?1726299292515 HTTP/1.1\" 200 -\n",
      "192.168.110.26 - - [14/Sep/2024 13:04:52] \"GET /lane_status HTTP/1.1\" 200 -\n",
      "192.168.110.26 - - [14/Sep/2024 13:04:53] \"GET /current_image?1726299293514 HTTP/1.1\" 200 -\n",
      "192.168.110.26 - - [14/Sep/2024 13:04:53] \"GET /lane_status HTTP/1.1\" 200 -\n",
      "192.168.110.26 - - [14/Sep/2024 13:04:54] \"GET /lane_status HTTP/1.1\" 200 -\n",
      "192.168.110.26 - - [14/Sep/2024 13:04:54] \"GET /current_image?1726299294512 HTTP/1.1\" 200 -\n",
      "192.168.110.26 - - [14/Sep/2024 13:04:55] \"GET /current_image?1726299295508 HTTP/1.1\" 200 -\n",
      "192.168.110.26 - - [14/Sep/2024 13:04:55] \"GET /lane_status HTTP/1.1\" 200 -\n",
      "192.168.110.26 - - [14/Sep/2024 13:04:56] \"GET /lane_status HTTP/1.1\" 200 -\n",
      "192.168.110.26 - - [14/Sep/2024 13:04:56] \"GET /current_image?1726299296506 HTTP/1.1\" 200 -\n",
      "192.168.110.26 - - [14/Sep/2024 13:04:57] \"GET /lane_status HTTP/1.1\" 200 -\n",
      "192.168.110.26 - - [14/Sep/2024 13:04:57] \"GET /current_image?1726299297513 HTTP/1.1\" 200 -\n",
      "192.168.110.26 - - [14/Sep/2024 13:04:58] \"GET /lane_status HTTP/1.1\" 200 -\n",
      "192.168.110.26 - - [14/Sep/2024 13:04:58] \"GET /current_image?1726299298505 HTTP/1.1\" 200 -\n",
      "192.168.110.26 - - [14/Sep/2024 13:04:59] \"GET /current_image?1726299299512 HTTP/1.1\" 200 -\n",
      "192.168.110.26 - - [14/Sep/2024 13:04:59] \"GET /lane_status HTTP/1.1\" 200 -\n",
      "192.168.110.26 - - [14/Sep/2024 13:05:00] \"GET /lane_status HTTP/1.1\" 200 -\n",
      "192.168.110.26 - - [14/Sep/2024 13:05:00] \"GET /current_image?1726299300517 HTTP/1.1\" 200 -\n",
      "192.168.110.26 - - [14/Sep/2024 13:05:01] \"GET /lane_status HTTP/1.1\" 200 -\n",
      "192.168.110.26 - - [14/Sep/2024 13:05:01] \"GET /current_image?1726299301508 HTTP/1.1\" 200 -\n",
      "192.168.110.26 - - [14/Sep/2024 13:05:02] \"GET /lane_status HTTP/1.1\" 200 -\n",
      "192.168.110.26 - - [14/Sep/2024 13:05:02] \"GET /current_image?1726299302507 HTTP/1.1\" 200 -\n"
     ]
    },
    {
     "name": "stdout",
     "output_type": "stream",
     "text": [
      "Lane 4 yellow light on.\n"
     ]
    },
    {
     "name": "stderr",
     "output_type": "stream",
     "text": [
      "192.168.110.26 - - [14/Sep/2024 13:05:03] \"GET /lane_status HTTP/1.1\" 200 -\n",
      "192.168.110.26 - - [14/Sep/2024 13:05:03] \"GET /current_image?1726299303505 HTTP/1.1\" 200 -\n",
      "192.168.110.26 - - [14/Sep/2024 13:05:04] \"GET /current_image?1726299304514 HTTP/1.1\" 200 -\n",
      "192.168.110.26 - - [14/Sep/2024 13:05:04] \"GET /lane_status HTTP/1.1\" 200 -\n",
      "192.168.110.26 - - [14/Sep/2024 13:05:05] \"GET /lane_status HTTP/1.1\" 200 -\n",
      "192.168.110.26 - - [14/Sep/2024 13:05:05] \"GET /current_image?1726299305513 HTTP/1.1\" 200 -\n"
     ]
    },
    {
     "name": "stdout",
     "output_type": "stream",
     "text": [
      "Lane 4 red light on.\n",
      "Completed one full cycle of lane processing.\n",
      "\n",
      "Total time for this iteration: 101.34 seconds\n",
      "\n"
     ]
    },
    {
     "name": "stderr",
     "output_type": "stream",
     "text": [
      "192.168.110.26 - - [14/Sep/2024 13:05:06] \"GET /current_image?1726299306516 HTTP/1.1\" 200 -\n",
      "192.168.110.26 - - [14/Sep/2024 13:05:06] \"GET /lane_status HTTP/1.1\" 200 -\n"
     ]
    },
    {
     "name": "stdout",
     "output_type": "stream",
     "text": [
      "Lane 1: 10.05 sec green + 3 sec yellow vehicles 8\n"
     ]
    },
    {
     "name": "stderr",
     "output_type": "stream",
     "text": [
      "192.168.110.26 - - [14/Sep/2024 13:05:07] \"GET /current_image?1726299307509 HTTP/1.1\" 200 -\n",
      "192.168.110.26 - - [14/Sep/2024 13:05:07] \"GET /lane_status HTTP/1.1\" 200 -\n",
      "192.168.110.26 - - [14/Sep/2024 13:05:08] \"GET /current_image?1726299308513 HTTP/1.1\" 200 -\n",
      "192.168.110.26 - - [14/Sep/2024 13:05:08] \"GET /lane_status HTTP/1.1\" 200 -\n",
      "192.168.110.26 - - [14/Sep/2024 13:05:09] \"GET /current_image?1726299309504 HTTP/1.1\" 200 -\n",
      "192.168.110.26 - - [14/Sep/2024 13:05:09] \"GET /lane_status HTTP/1.1\" 200 -\n",
      "192.168.110.26 - - [14/Sep/2024 13:05:10] \"GET /current_image?1726299310508 HTTP/1.1\" 200 -\n",
      "192.168.110.26 - - [14/Sep/2024 13:05:10] \"GET /lane_status HTTP/1.1\" 200 -\n",
      "192.168.110.26 - - [14/Sep/2024 13:05:11] \"GET /current_image?1726299311505 HTTP/1.1\" 200 -\n",
      "192.168.110.26 - - [14/Sep/2024 13:05:11] \"GET /lane_status HTTP/1.1\" 200 -\n",
      "192.168.110.26 - - [14/Sep/2024 13:05:12] \"GET /current_image?1726299312511 HTTP/1.1\" 200 -\n",
      "192.168.110.26 - - [14/Sep/2024 13:05:12] \"GET /lane_status HTTP/1.1\" 200 -\n",
      "192.168.110.26 - - [14/Sep/2024 13:05:13] \"GET /lane_status HTTP/1.1\" 200 -\n",
      "192.168.110.26 - - [14/Sep/2024 13:05:13] \"GET /current_image?1726299313501 HTTP/1.1\" 200 -\n",
      "192.168.110.26 - - [14/Sep/2024 13:05:14] \"GET /current_image?1726299314513 HTTP/1.1\" 200 -\n",
      "192.168.110.26 - - [14/Sep/2024 13:05:14] \"GET /lane_status HTTP/1.1\" 200 -\n",
      "192.168.110.26 - - [14/Sep/2024 13:05:15] \"GET /current_image?1726299315505 HTTP/1.1\" 200 -\n",
      "192.168.110.26 - - [14/Sep/2024 13:05:15] \"GET /lane_status HTTP/1.1\" 200 -\n",
      "192.168.110.26 - - [14/Sep/2024 13:05:16] \"GET /lane_status HTTP/1.1\" 200 -\n",
      "192.168.110.26 - - [14/Sep/2024 13:05:16] \"GET /current_image?1726299316506 HTTP/1.1\" 200 -\n"
     ]
    },
    {
     "name": "stdout",
     "output_type": "stream",
     "text": [
      "Lane 1 yellow light on.\n"
     ]
    },
    {
     "name": "stderr",
     "output_type": "stream",
     "text": [
      "192.168.110.26 - - [14/Sep/2024 13:05:17] \"GET /current_image?1726299317505 HTTP/1.1\" 200 -\n",
      "192.168.110.26 - - [14/Sep/2024 13:05:17] \"GET /lane_status HTTP/1.1\" 200 -\n",
      "192.168.110.26 - - [14/Sep/2024 13:05:18] \"GET /current_image?1726299318516 HTTP/1.1\" 200 -\n",
      "192.168.110.26 - - [14/Sep/2024 13:05:18] \"GET /lane_status HTTP/1.1\" 200 -\n",
      "192.168.110.26 - - [14/Sep/2024 13:05:19] \"GET /current_image?1726299319504 HTTP/1.1\" 200 -\n",
      "192.168.110.26 - - [14/Sep/2024 13:05:19] \"GET /lane_status HTTP/1.1\" 200 -\n"
     ]
    },
    {
     "name": "stdout",
     "output_type": "stream",
     "text": [
      "Lane 1 red light on.\n",
      "Lane 2: 35.00 sec green + 3 sec yellow vehicles 33\n"
     ]
    },
    {
     "name": "stderr",
     "output_type": "stream",
     "text": [
      "192.168.110.26 - - [14/Sep/2024 13:05:20] \"GET /current_image?1726299320517 HTTP/1.1\" 200 -\n",
      "192.168.110.26 - - [14/Sep/2024 13:05:20] \"GET /lane_status HTTP/1.1\" 200 -\n",
      "192.168.110.26 - - [14/Sep/2024 13:05:21] \"GET /current_image?1726299321516 HTTP/1.1\" 200 -\n",
      "192.168.110.26 - - [14/Sep/2024 13:05:21] \"GET /lane_status HTTP/1.1\" 200 -\n",
      "192.168.110.26 - - [14/Sep/2024 13:05:22] \"GET /current_image?1726299322513 HTTP/1.1\" 200 -\n",
      "192.168.110.26 - - [14/Sep/2024 13:05:22] \"GET /lane_status HTTP/1.1\" 200 -\n",
      "192.168.110.26 - - [14/Sep/2024 13:05:23] \"GET /current_image?1726299323510 HTTP/1.1\" 200 -\n",
      "192.168.110.26 - - [14/Sep/2024 13:05:23] \"GET /lane_status HTTP/1.1\" 200 -\n",
      "192.168.110.26 - - [14/Sep/2024 13:05:24] \"GET /current_image?1726299324509 HTTP/1.1\" 200 -\n",
      "192.168.110.26 - - [14/Sep/2024 13:05:24] \"GET /lane_status HTTP/1.1\" 200 -\n",
      "192.168.110.26 - - [14/Sep/2024 13:05:25] \"GET /lane_status HTTP/1.1\" 200 -\n",
      "192.168.110.26 - - [14/Sep/2024 13:05:25] \"GET /current_image?1726299325508 HTTP/1.1\" 200 -\n",
      "192.168.110.26 - - [14/Sep/2024 13:05:26] \"GET /current_image?1726299326514 HTTP/1.1\" 200 -\n",
      "192.168.110.26 - - [14/Sep/2024 13:05:26] \"GET /lane_status HTTP/1.1\" 200 -\n",
      "192.168.110.26 - - [14/Sep/2024 13:05:27] \"GET /current_image?1726299327508 HTTP/1.1\" 200 -\n",
      "192.168.110.26 - - [14/Sep/2024 13:05:27] \"GET /lane_status HTTP/1.1\" 200 -\n",
      "192.168.110.26 - - [14/Sep/2024 13:05:28] \"GET /lane_status HTTP/1.1\" 200 -\n",
      "192.168.110.26 - - [14/Sep/2024 13:05:28] \"GET /current_image?1726299328512 HTTP/1.1\" 200 -\n",
      "192.168.110.26 - - [14/Sep/2024 13:05:29] \"GET /current_image?1726299329510 HTTP/1.1\" 200 -\n",
      "192.168.110.26 - - [14/Sep/2024 13:05:29] \"GET /lane_status HTTP/1.1\" 200 -\n",
      "192.168.110.26 - - [14/Sep/2024 13:05:30] \"GET /current_image?1726299330504 HTTP/1.1\" 200 -\n",
      "192.168.110.26 - - [14/Sep/2024 13:05:30] \"GET /lane_status HTTP/1.1\" 200 -\n",
      "192.168.110.26 - - [14/Sep/2024 13:05:31] \"GET /lane_status HTTP/1.1\" 200 -\n",
      "192.168.110.26 - - [14/Sep/2024 13:05:31] \"GET /current_image?1726299331514 HTTP/1.1\" 200 -\n",
      "192.168.110.26 - - [14/Sep/2024 13:05:32] \"GET /current_image?1726299332508 HTTP/1.1\" 200 -\n",
      "192.168.110.26 - - [14/Sep/2024 13:05:32] \"GET /lane_status HTTP/1.1\" 200 -\n",
      "192.168.110.26 - - [14/Sep/2024 13:05:33] \"GET /current_image?1726299333507 HTTP/1.1\" 200 -\n",
      "192.168.110.26 - - [14/Sep/2024 13:05:33] \"GET /lane_status HTTP/1.1\" 200 -\n",
      "192.168.110.26 - - [14/Sep/2024 13:05:34] \"GET /lane_status HTTP/1.1\" 200 -\n",
      "192.168.110.26 - - [14/Sep/2024 13:05:34] \"GET /current_image?1726299334506 HTTP/1.1\" 200 -\n",
      "192.168.110.26 - - [14/Sep/2024 13:05:35] \"GET /lane_status HTTP/1.1\" 200 -\n",
      "192.168.110.26 - - [14/Sep/2024 13:05:35] \"GET /current_image?1726299335518 HTTP/1.1\" 200 -\n",
      "192.168.110.26 - - [14/Sep/2024 13:05:36] \"GET /lane_status HTTP/1.1\" 200 -\n",
      "192.168.110.26 - - [14/Sep/2024 13:05:36] \"GET /current_image?1726299336517 HTTP/1.1\" 200 -\n",
      "192.168.110.26 - - [14/Sep/2024 13:05:37] \"GET /lane_status HTTP/1.1\" 200 -\n",
      "192.168.110.26 - - [14/Sep/2024 13:05:37] \"GET /current_image?1726299337515 HTTP/1.1\" 200 -\n",
      "192.168.110.26 - - [14/Sep/2024 13:05:38] \"GET /lane_status HTTP/1.1\" 200 -\n",
      "192.168.110.26 - - [14/Sep/2024 13:05:38] \"GET /current_image?1726299338513 HTTP/1.1\" 200 -\n",
      "192.168.110.26 - - [14/Sep/2024 13:05:39] \"GET /lane_status HTTP/1.1\" 200 -\n",
      "192.168.110.26 - - [14/Sep/2024 13:05:39] \"GET /current_image?1726299339510 HTTP/1.1\" 200 -\n",
      "192.168.110.26 - - [14/Sep/2024 13:05:40] \"GET /lane_status HTTP/1.1\" 200 -\n",
      "192.168.110.26 - - [14/Sep/2024 13:05:40] \"GET /current_image?1726299340504 HTTP/1.1\" 200 -\n",
      "192.168.110.26 - - [14/Sep/2024 13:05:41] \"GET /lane_status HTTP/1.1\" 200 -\n",
      "192.168.110.26 - - [14/Sep/2024 13:05:41] \"GET /current_image?1726299341512 HTTP/1.1\" 200 -\n",
      "192.168.110.26 - - [14/Sep/2024 13:05:42] \"GET /lane_status HTTP/1.1\" 200 -\n",
      "192.168.110.26 - - [14/Sep/2024 13:05:42] \"GET /current_image?1726299342518 HTTP/1.1\" 200 -\n",
      "192.168.110.26 - - [14/Sep/2024 13:05:43] \"GET /lane_status HTTP/1.1\" 200 -\n",
      "192.168.110.26 - - [14/Sep/2024 13:05:43] \"GET /current_image?1726299343515 HTTP/1.1\" 200 -\n",
      "192.168.110.26 - - [14/Sep/2024 13:05:44] \"GET /lane_status HTTP/1.1\" 200 -\n",
      "192.168.110.26 - - [14/Sep/2024 13:05:44] \"GET /current_image?1726299344517 HTTP/1.1\" 200 -\n",
      "192.168.110.26 - - [14/Sep/2024 13:05:45] \"GET /lane_status HTTP/1.1\" 200 -\n",
      "192.168.110.26 - - [14/Sep/2024 13:05:45] \"GET /current_image?1726299345511 HTTP/1.1\" 200 -\n",
      "192.168.110.26 - - [14/Sep/2024 13:05:46] \"GET /lane_status HTTP/1.1\" 200 -\n",
      "192.168.110.26 - - [14/Sep/2024 13:05:46] \"GET /current_image?1726299346512 HTTP/1.1\" 200 -\n",
      "192.168.110.26 - - [14/Sep/2024 13:05:47] \"GET /lane_status HTTP/1.1\" 200 -\n",
      "192.168.110.26 - - [14/Sep/2024 13:05:47] \"GET /current_image?1726299347509 HTTP/1.1\" 200 -\n",
      "192.168.110.26 - - [14/Sep/2024 13:05:48] \"GET /current_image?1726299348508 HTTP/1.1\" 200 -\n",
      "192.168.110.26 - - [14/Sep/2024 13:05:48] \"GET /lane_status HTTP/1.1\" 200 -\n",
      "192.168.110.26 - - [14/Sep/2024 13:05:49] \"GET /lane_status HTTP/1.1\" 200 -\n",
      "192.168.110.26 - - [14/Sep/2024 13:05:49] \"GET /current_image?1726299349503 HTTP/1.1\" 200 -\n",
      "192.168.110.26 - - [14/Sep/2024 13:05:50] \"GET /lane_status HTTP/1.1\" 200 -\n",
      "192.168.110.26 - - [14/Sep/2024 13:05:50] \"GET /current_image?1726299350506 HTTP/1.1\" 200 -\n",
      "192.168.110.26 - - [14/Sep/2024 13:05:51] \"GET /lane_status HTTP/1.1\" 200 -\n",
      "192.168.110.26 - - [14/Sep/2024 13:05:51] \"GET /current_image?1726299351506 HTTP/1.1\" 200 -\n",
      "192.168.110.26 - - [14/Sep/2024 13:05:52] \"GET /current_image?1726299352510 HTTP/1.1\" 200 -\n",
      "192.168.110.26 - - [14/Sep/2024 13:05:52] \"GET /lane_status HTTP/1.1\" 200 -\n",
      "192.168.110.26 - - [14/Sep/2024 13:05:53] \"GET /lane_status HTTP/1.1\" 200 -\n",
      "192.168.110.26 - - [14/Sep/2024 13:05:53] \"GET /current_image?1726299353510 HTTP/1.1\" 200 -\n",
      "192.168.110.26 - - [14/Sep/2024 13:05:54] \"GET /lane_status HTTP/1.1\" 200 -\n",
      "192.168.110.26 - - [14/Sep/2024 13:05:54] \"GET /current_image?1726299354504 HTTP/1.1\" 200 -\n"
     ]
    },
    {
     "name": "stdout",
     "output_type": "stream",
     "text": [
      "Lane 2 yellow light on.\n"
     ]
    },
    {
     "name": "stderr",
     "output_type": "stream",
     "text": [
      "192.168.110.26 - - [14/Sep/2024 13:05:55] \"GET /lane_status HTTP/1.1\" 200 -\n",
      "192.168.110.26 - - [14/Sep/2024 13:05:55] \"GET /current_image?1726299355513 HTTP/1.1\" 200 -\n",
      "192.168.110.26 - - [14/Sep/2024 13:05:56] \"GET /lane_status HTTP/1.1\" 200 -\n",
      "192.168.110.26 - - [14/Sep/2024 13:05:56] \"GET /current_image?1726299356516 HTTP/1.1\" 200 -\n",
      "192.168.110.26 - - [14/Sep/2024 13:05:57] \"GET /lane_status HTTP/1.1\" 200 -\n",
      "192.168.110.26 - - [14/Sep/2024 13:05:57] \"GET /current_image?1726299357513 HTTP/1.1\" 200 -\n"
     ]
    },
    {
     "name": "stdout",
     "output_type": "stream",
     "text": [
      "Lane 2 red light on.\n"
     ]
    },
    {
     "name": "stderr",
     "output_type": "stream",
     "text": [
      "192.168.110.26 - - [14/Sep/2024 13:05:58] \"GET /lane_status HTTP/1.1\" 200 -\n",
      "192.168.110.26 - - [14/Sep/2024 13:05:58] \"GET /current_image?1726299358507 HTTP/1.1\" 200 -\n"
     ]
    },
    {
     "name": "stdout",
     "output_type": "stream",
     "text": [
      "Lane 3: 12.07 sec green + 3 sec yellow vehicles 10\n"
     ]
    },
    {
     "name": "stderr",
     "output_type": "stream",
     "text": [
      "192.168.110.26 - - [14/Sep/2024 13:05:59] \"GET /lane_status HTTP/1.1\" 200 -\n",
      "192.168.110.26 - - [14/Sep/2024 13:05:59] \"GET /current_image?1726299359516 HTTP/1.1\" 200 -\n",
      "192.168.110.26 - - [14/Sep/2024 13:06:00] \"GET /lane_status HTTP/1.1\" 200 -\n",
      "192.168.110.26 - - [14/Sep/2024 13:06:00] \"GET /current_image?1726299360505 HTTP/1.1\" 200 -\n",
      "192.168.110.26 - - [14/Sep/2024 13:06:01] \"GET /current_image?1726299361515 HTTP/1.1\" 200 -\n",
      "192.168.110.26 - - [14/Sep/2024 13:06:01] \"GET /lane_status HTTP/1.1\" 200 -\n",
      "192.168.110.26 - - [14/Sep/2024 13:06:02] \"GET /lane_status HTTP/1.1\" 200 -\n",
      "192.168.110.26 - - [14/Sep/2024 13:06:02] \"GET /current_image?1726299362508 HTTP/1.1\" 200 -\n",
      "192.168.110.26 - - [14/Sep/2024 13:06:03] \"GET /current_image?1726299363511 HTTP/1.1\" 200 -\n",
      "192.168.110.26 - - [14/Sep/2024 13:06:03] \"GET /lane_status HTTP/1.1\" 200 -\n",
      "192.168.110.26 - - [14/Sep/2024 13:06:04] \"GET /current_image?1726299364514 HTTP/1.1\" 200 -\n",
      "192.168.110.26 - - [14/Sep/2024 13:06:04] \"GET /lane_status HTTP/1.1\" 200 -\n",
      "192.168.110.26 - - [14/Sep/2024 13:06:05] \"GET /current_image?1726299365515 HTTP/1.1\" 200 -\n",
      "192.168.110.26 - - [14/Sep/2024 13:06:05] \"GET /lane_status HTTP/1.1\" 200 -\n",
      "192.168.110.26 - - [14/Sep/2024 13:06:06] \"GET /current_image?1726299366518 HTTP/1.1\" 200 -\n",
      "192.168.110.26 - - [14/Sep/2024 13:06:06] \"GET /lane_status HTTP/1.1\" 200 -\n",
      "192.168.110.26 - - [14/Sep/2024 13:06:07] \"GET /current_image?1726299367506 HTTP/1.1\" 200 -\n",
      "192.168.110.26 - - [14/Sep/2024 13:06:07] \"GET /lane_status HTTP/1.1\" 200 -\n",
      "192.168.110.26 - - [14/Sep/2024 13:06:08] \"GET /current_image?1726299368508 HTTP/1.1\" 200 -\n",
      "192.168.110.26 - - [14/Sep/2024 13:06:08] \"GET /lane_status HTTP/1.1\" 200 -\n",
      "192.168.110.26 - - [14/Sep/2024 13:06:09] \"GET /lane_status HTTP/1.1\" 200 -\n",
      "192.168.110.26 - - [14/Sep/2024 13:06:09] \"GET /current_image?1726299369503 HTTP/1.1\" 200 -\n",
      "192.168.110.26 - - [14/Sep/2024 13:06:11] \"GET /current_image?1726299370509 HTTP/1.1\" 200 -\n",
      "192.168.110.26 - - [14/Sep/2024 13:06:11] \"GET /lane_status HTTP/1.1\" 200 -\n"
     ]
    },
    {
     "name": "stdout",
     "output_type": "stream",
     "text": [
      "Lane 3 yellow light on.\n"
     ]
    },
    {
     "name": "stderr",
     "output_type": "stream",
     "text": [
      "192.168.110.26 - - [14/Sep/2024 13:06:11] \"GET /current_image?1726299371504 HTTP/1.1\" 200 -\n",
      "192.168.110.26 - - [14/Sep/2024 13:06:11] \"GET /lane_status HTTP/1.1\" 200 -\n",
      "192.168.110.26 - - [14/Sep/2024 13:06:12] \"GET /current_image?1726299372506 HTTP/1.1\" 200 -\n",
      "192.168.110.26 - - [14/Sep/2024 13:06:12] \"GET /lane_status HTTP/1.1\" 200 -\n",
      "192.168.110.26 - - [14/Sep/2024 13:06:13] \"GET /lane_status HTTP/1.1\" 200 -\n",
      "192.168.110.26 - - [14/Sep/2024 13:06:13] \"GET /current_image?1726299373515 HTTP/1.1\" 200 -\n"
     ]
    },
    {
     "name": "stdout",
     "output_type": "stream",
     "text": [
      "Lane 3 red light on.\n"
     ]
    },
    {
     "name": "stderr",
     "output_type": "stream",
     "text": [
      "192.168.110.26 - - [14/Sep/2024 13:06:14] \"GET /lane_status HTTP/1.1\" 200 -\n",
      "192.168.110.26 - - [14/Sep/2024 13:06:14] \"GET /current_image?1726299374524 HTTP/1.1\" 200 -\n"
     ]
    },
    {
     "name": "stdout",
     "output_type": "stream",
     "text": [
      "Lane 4: 16.10 sec green + 3 sec yellow vehicles 14\n"
     ]
    },
    {
     "name": "stderr",
     "output_type": "stream",
     "text": [
      "192.168.110.26 - - [14/Sep/2024 13:06:16] \"GET /lane_status HTTP/1.1\" 200 -\n",
      "192.168.110.26 - - [14/Sep/2024 13:06:16] \"GET /current_image?1726299376071 HTTP/1.1\" 200 -\n",
      "192.168.110.26 - - [14/Sep/2024 13:06:17] \"GET /lane_status HTTP/1.1\" 200 -\n",
      "192.168.110.26 - - [14/Sep/2024 13:06:17] \"GET /current_image?1726299377079 HTTP/1.1\" 200 -\n",
      "192.168.110.26 - - [14/Sep/2024 13:06:18] \"GET /lane_status HTTP/1.1\" 200 -\n",
      "192.168.110.26 - - [14/Sep/2024 13:06:18] \"GET /current_image?1726299378083 HTTP/1.1\" 200 -\n",
      "192.168.110.26 - - [14/Sep/2024 13:06:19] \"GET /lane_status HTTP/1.1\" 200 -\n",
      "192.168.110.26 - - [14/Sep/2024 13:06:19] \"GET /current_image?1726299379074 HTTP/1.1\" 200 -\n",
      "192.168.110.26 - - [14/Sep/2024 13:06:20] \"GET /lane_status HTTP/1.1\" 200 -\n",
      "192.168.110.26 - - [14/Sep/2024 13:06:20] \"GET /current_image?1726299380077 HTTP/1.1\" 200 -\n",
      "192.168.110.26 - - [14/Sep/2024 13:06:21] \"GET /lane_status HTTP/1.1\" 200 -\n",
      "192.168.110.26 - - [14/Sep/2024 13:06:21] \"GET /current_image?1726299381065 HTTP/1.1\" 200 -\n",
      "192.168.110.26 - - [14/Sep/2024 13:06:22] \"GET /lane_status HTTP/1.1\" 200 -\n",
      "192.168.110.26 - - [14/Sep/2024 13:06:22] \"GET /current_image?1726299382074 HTTP/1.1\" 200 -\n",
      "192.168.110.26 - - [14/Sep/2024 13:06:23] \"GET /lane_status HTTP/1.1\" 200 -\n",
      "192.168.110.26 - - [14/Sep/2024 13:06:23] \"GET /current_image?1726299383087 HTTP/1.1\" 200 -\n",
      "192.168.110.26 - - [14/Sep/2024 13:06:24] \"GET /lane_status HTTP/1.1\" 200 -\n",
      "192.168.110.26 - - [14/Sep/2024 13:06:24] \"GET /current_image?1726299384085 HTTP/1.1\" 200 -\n",
      "192.168.110.26 - - [14/Sep/2024 13:06:25] \"GET /lane_status HTTP/1.1\" 200 -\n",
      "192.168.110.26 - - [14/Sep/2024 13:06:25] \"GET /current_image?1726299385081 HTTP/1.1\" 200 -\n",
      "192.168.110.26 - - [14/Sep/2024 13:06:26] \"GET /lane_status HTTP/1.1\" 200 -\n",
      "192.168.110.26 - - [14/Sep/2024 13:06:26] \"GET /current_image?1726299386085 HTTP/1.1\" 200 -\n",
      "192.168.110.26 - - [14/Sep/2024 13:06:27] \"GET /lane_status HTTP/1.1\" 200 -\n",
      "192.168.110.26 - - [14/Sep/2024 13:06:27] \"GET /current_image?1726299387067 HTTP/1.1\" 200 -\n",
      "192.168.110.26 - - [14/Sep/2024 13:06:28] \"GET /lane_status HTTP/1.1\" 200 -\n",
      "192.168.110.26 - - [14/Sep/2024 13:06:28] \"GET /current_image?1726299388081 HTTP/1.1\" 200 -\n",
      "192.168.110.26 - - [14/Sep/2024 13:06:29] \"GET /lane_status HTTP/1.1\" 200 -\n",
      "192.168.110.26 - - [14/Sep/2024 13:06:29] \"GET /current_image?1726299389084 HTTP/1.1\" 200 -\n",
      "192.168.110.26 - - [14/Sep/2024 13:06:30] \"GET /lane_status HTTP/1.1\" 200 -\n",
      "192.168.110.26 - - [14/Sep/2024 13:06:30] \"GET /current_image?1726299390070 HTTP/1.1\" 200 -\n"
     ]
    },
    {
     "name": "stdout",
     "output_type": "stream",
     "text": [
      "Lane 4 yellow light on.\n"
     ]
    },
    {
     "name": "stderr",
     "output_type": "stream",
     "text": [
      "192.168.110.26 - - [14/Sep/2024 13:06:31] \"GET /lane_status HTTP/1.1\" 200 -\n",
      "192.168.110.26 - - [14/Sep/2024 13:06:31] \"GET /current_image?1726299391077 HTTP/1.1\" 200 -\n",
      "192.168.110.26 - - [14/Sep/2024 13:06:32] \"GET /lane_status HTTP/1.1\" 200 -\n",
      "192.168.110.26 - - [14/Sep/2024 13:06:32] \"GET /current_image?1726299392065 HTTP/1.1\" 200 -\n",
      "192.168.110.26 - - [14/Sep/2024 13:06:33] \"GET /lane_status HTTP/1.1\" 200 -\n",
      "192.168.110.26 - - [14/Sep/2024 13:06:33] \"GET /current_image?1726299393067 HTTP/1.1\" 200 -\n"
     ]
    },
    {
     "name": "stdout",
     "output_type": "stream",
     "text": [
      "Lane 4 red light on.\n",
      "Completed one full cycle of lane processing.\n",
      "\n",
      "Total time for this iteration: 85.22 seconds\n",
      "\n"
     ]
    },
    {
     "name": "stderr",
     "output_type": "stream",
     "text": [
      "192.168.110.26 - - [14/Sep/2024 13:06:34] \"GET /lane_status HTTP/1.1\" 200 -\n",
      "192.168.110.26 - - [14/Sep/2024 13:06:34] \"GET /current_image?1726299394075 HTTP/1.1\" 200 -\n"
     ]
    },
    {
     "name": "stdout",
     "output_type": "stream",
     "text": [
      "Lane 1: 31.21 sec green + 3 sec yellow vehicles 29\n"
     ]
    },
    {
     "name": "stderr",
     "output_type": "stream",
     "text": [
      "192.168.110.26 - - [14/Sep/2024 13:06:35] \"GET /lane_status HTTP/1.1\" 200 -\n",
      "192.168.110.26 - - [14/Sep/2024 13:06:35] \"GET /current_image?1726299395074 HTTP/1.1\" 200 -\n",
      "192.168.110.26 - - [14/Sep/2024 13:06:36] \"GET /lane_status HTTP/1.1\" 200 -\n",
      "192.168.110.26 - - [14/Sep/2024 13:06:36] \"GET /current_image?1726299396076 HTTP/1.1\" 200 -\n",
      "192.168.110.26 - - [14/Sep/2024 13:06:37] \"GET /lane_status HTTP/1.1\" 200 -\n",
      "192.168.110.26 - - [14/Sep/2024 13:06:37] \"GET /current_image?1726299397075 HTTP/1.1\" 200 -\n",
      "192.168.110.26 - - [14/Sep/2024 13:06:38] \"GET /lane_status HTTP/1.1\" 200 -\n",
      "192.168.110.26 - - [14/Sep/2024 13:06:38] \"GET /current_image?1726299398077 HTTP/1.1\" 200 -\n",
      "192.168.110.26 - - [14/Sep/2024 13:09:17] \"GET /lane_status HTTP/1.1\" 200 -\n",
      "192.168.110.26 - - [14/Sep/2024 13:09:17] \"GET /current_image?1726299556661 HTTP/1.1\" 200 -\n"
     ]
    },
    {
     "name": "stdout",
     "output_type": "stream",
     "text": [
      "Lane 1 yellow light on.\n",
      "Lane 1 red light on.\n",
      "Lane 2: 13.08 sec green + 3 sec yellow vehicles 11\n",
      "Lane 2 yellow light on.\n",
      "Lane 2 red light on.\n",
      "Lane 3: 5.02 sec green + 3 sec yellow vehicles 3\n",
      "Lane 3 yellow light on.\n",
      "Lane 3 red light on.\n",
      "Lane 4: 28.19 sec green + 3 sec yellow vehicles 26\n",
      "Lane 4 yellow light on.\n",
      "Lane 4 red light on.\n",
      "Completed one full cycle of lane processing.\n",
      "\n",
      "Total time for this iteration: 89.49 seconds\n",
      "\n",
      "Lane 1: 16.10 sec green + 3 sec yellow vehicles 14\n",
      "Lane 1 yellow light on.\n",
      "Lane 1 red light on.\n",
      "Lane 2: 31.21 sec green + 3 sec yellow vehicles 29\n"
     ]
    },
    {
     "ename": "KeyboardInterrupt",
     "evalue": "",
     "output_type": "error",
     "traceback": [
      "\u001b[1;31m---------------------------------------------------------------------------\u001b[0m",
      "\u001b[1;31mKeyboardInterrupt\u001b[0m                         Traceback (most recent call last)",
      "Cell \u001b[1;32mIn[1], line 237\u001b[0m\n\u001b[0;32m    235\u001b[0m \u001b[38;5;66;03m# Run the lane processing loop\u001b[39;00m\n\u001b[0;32m    236\u001b[0m \u001b[38;5;28;01mwhile\u001b[39;00m \u001b[38;5;28;01mTrue\u001b[39;00m:\n\u001b[1;32m--> 237\u001b[0m     \u001b[43mprocess_lanes\u001b[49m\u001b[43m(\u001b[49m\u001b[43m)\u001b[49m\n",
      "Cell \u001b[1;32mIn[1], line 90\u001b[0m, in \u001b[0;36mprocess_lanes\u001b[1;34m()\u001b[0m\n\u001b[0;32m     87\u001b[0m update_lane_status()  \u001b[38;5;66;03m# Update the web display\u001b[39;00m\n\u001b[0;32m     89\u001b[0m \u001b[38;5;28;01mwhile\u001b[39;00m lane_timers[lane_index] \u001b[38;5;241m>\u001b[39m \u001b[38;5;241m0\u001b[39m:\n\u001b[1;32m---> 90\u001b[0m     \u001b[43mtime\u001b[49m\u001b[38;5;241;43m.\u001b[39;49m\u001b[43msleep\u001b[49m\u001b[43m(\u001b[49m\u001b[38;5;241;43m1\u001b[39;49m\u001b[43m)\u001b[49m\n\u001b[0;32m     91\u001b[0m     lane_timers[lane_index] \u001b[38;5;241m-\u001b[39m\u001b[38;5;241m=\u001b[39m \u001b[38;5;241m1\u001b[39m\n\u001b[0;32m     92\u001b[0m     update_lane_status()  \u001b[38;5;66;03m# Update the web display\u001b[39;00m\n",
      "\u001b[1;31mKeyboardInterrupt\u001b[0m: "
     ]
    }
   ],
   "source": [
    "import cv2\n",
    "import torch\n",
    "import warnings\n",
    "import numpy as np\n",
    "import random\n",
    "from sklearn.linear_model import LinearRegression\n",
    "import time\n",
    "from flask import Flask, render_template_string, jsonify, send_file\n",
    "from threading import Thread\n",
    "import os\n",
    "\n",
    "# Suppress all Future Warning messages\n",
    "warnings.simplefilter(action='ignore', category=FutureWarning)\n",
    "\n",
    "# Initialize Flask app\n",
    "app = Flask(__name__)\n",
    "\n",
    "# Linear Regression Model\n",
    "data = np.array([\n",
    "    [0, 0],\n",
    "    [2, 4],\n",
    "    [5, 7],\n",
    "    [10, 14],\n",
    "    [15, 17],\n",
    "    [20, 23],\n",
    "    [25, 28],\n",
    "    [30, 33],\n",
    "    [35, 35],\n",
    "])\n",
    "X = data[:, 0].reshape(-1, 1)\n",
    "y = data[:, 1]\n",
    "\n",
    "model_L = LinearRegression()\n",
    "model_L.fit(X, y)\n",
    "\n",
    "# Load a larger YOLOv5 model for better detection\n",
    "model = torch.hub.load('ultralytics/yolov5', 'yolov5m')\n",
    "\n",
    "# Set constants\n",
    "GREEN_LIGHT_THRESHOLD = 35 \n",
    "YELLOW_LIGHT_DURATION = 3    \n",
    "\n",
    "# Initialize lane status, current image, and timers\n",
    "lane_status = [\"red\", \"red\", \"red\", \"red\"]\n",
    "current_image_path = \"\"\n",
    "lane_timers = [0, 0, 0, 0]\n",
    "\n",
    "# Function to count vehicles in a single lane using YOLO\n",
    "def count_vehicles(frame):\n",
    "    results = model(frame)\n",
    "    detections = results.pandas().xyxy[0]\n",
    "    vehicle_classes = ['car', 'truck', 'bus', 'motorcycle', 'bicycle', 'scooty']\n",
    "    \n",
    "    # Filter by vehicle class and confidence threshold\n",
    "    detections = detections[(detections['name'].isin(vehicle_classes)) & (detections['confidence'] > 0.3)]\n",
    "    \n",
    "    return detections.shape[0]\n",
    "\n",
    "def predict_time(vehicle_count):\n",
    "    return model_L.predict(np.array([[vehicle_count]]))[0]\n",
    "\n",
    "def calculate_clearance_time(vehicle_count):\n",
    "    clearance_time = min(predict_time(vehicle_count), GREEN_LIGHT_THRESHOLD)\n",
    "    return clearance_time\n",
    "\n",
    "# Function to process lanes\n",
    "def process_lanes():\n",
    "    global lane_status, current_image_path, lane_timers\n",
    "    total_time = 0\n",
    "    for lane_index in range(4):\n",
    "        lane_status = [\"red\"] * 4  # Reset all lanes to red\n",
    "        lane_timers = [0] * 4  # Reset all timers\n",
    "        \n",
    "        # Simulate green light for the current lane\n",
    "        lane_status[lane_index] = \"green\"\n",
    "        \n",
    "        # Generate a random image path\n",
    "        current_image_path = generate_random_image_path()\n",
    "        frame = cv2.imread(current_image_path)\n",
    "\n",
    "        # Process the frame to count vehicles\n",
    "        vehicle_count = count_vehicles(frame)\n",
    "        clearance_time = calculate_clearance_time(vehicle_count)\n",
    "        lane_timers[lane_index] = int(clearance_time)\n",
    "\n",
    "        print(f\"Lane {lane_index+1}: {clearance_time:.2f} sec green + {YELLOW_LIGHT_DURATION} sec yellow vehicles {vehicle_count}\")\n",
    "        update_lane_status()  # Update the web display\n",
    "        \n",
    "        while lane_timers[lane_index] > 0:\n",
    "            time.sleep(1)\n",
    "            lane_timers[lane_index] -= 1\n",
    "            update_lane_status()  # Update the web display\n",
    "\n",
    "        # Simulate yellow light\n",
    "        lane_status[lane_index] = \"yellow\"\n",
    "        print(f\"Lane {lane_index+1} yellow light on.\")\n",
    "        update_lane_status()  # Update the web display\n",
    "        time.sleep(YELLOW_LIGHT_DURATION)\n",
    "\n",
    "        lane_status[lane_index] = \"red\"\n",
    "        print(f\"Lane {lane_index+1} red light on.\")\n",
    "        update_lane_status()  # Update the web display\n",
    "        total_time += clearance_time + YELLOW_LIGHT_DURATION\n",
    "    print(\"Completed one full cycle of lane processing.\\n\")\n",
    "    print(f\"Total time for this iteration: {total_time:.2f} seconds\\n\")\n",
    "\n",
    "# Function to generate a random image path dynamically\n",
    "def generate_random_image_path():\n",
    "    path = \"D:/SIH/Data/img/\"\n",
    "    random_number = random.randint(1, 57)\n",
    "    image_path = f\"{path}traffic_img({random_number}).jpg\"\n",
    "    return image_path\n",
    "\n",
    "# Update lane status function\n",
    "def update_lane_status():\n",
    "    with app.app_context():\n",
    "        return lane_status\n",
    "\n",
    "# Flask route to serve the lane status\n",
    "@app.route('/lane_status')\n",
    "def get_lane_status():\n",
    "    return jsonify({\n",
    "        \"status\": lane_status,\n",
    "        \"timers\": lane_timers\n",
    "    })\n",
    "\n",
    "# Flask route to serve the current image\n",
    "@app.route('/current_image')\n",
    "def get_current_image():\n",
    "    if current_image_path and os.path.exists(current_image_path):\n",
    "        return send_file(current_image_path, mimetype='image/jpeg')\n",
    "    else:\n",
    "        return \"\", 404\n",
    "\n",
    "# Integrated HTML template with Flask\n",
    "@app.route('/')\n",
    "def index():\n",
    "    return render_template_string('''\n",
    "        <!DOCTYPE html>\n",
    "        <html lang=\"en\">\n",
    "        <head>\n",
    "            <meta charset=\"UTF-8\">\n",
    "            <meta name=\"viewport\" content=\"width=device-width, initial-scale=1.0\">\n",
    "            <title>Traffic Signal Simulation</title>\n",
    "            <style>\n",
    "                .lane-container {\n",
    "                    display: inline-block;\n",
    "                    text-align: center;\n",
    "                    margin: 20px;\n",
    "                }\n",
    "                .lane {\n",
    "                    width: 100px;\n",
    "                    height: 100px;\n",
    "                    border: 2px solid black;\n",
    "                    line-height: 100px;\n",
    "                    font-size: 20px;\n",
    "                    color: white;\n",
    "                    font-weight: bold;\n",
    "                    border-radius: 50%;\n",
    "                    position: relative;\n",
    "                }\n",
    "                .red { background-color: red; }\n",
    "                .yellow { background-color: yellow; color: black; }\n",
    "                .green { background-color: green; }\n",
    "                .timer {\n",
    "                    font-size: 18px;\n",
    "                    color: black;\n",
    "                    font-weight: bold;\n",
    "                    margin-bottom: 10px;\n",
    "                }\n",
    "                .traffic-image {\n",
    "                    width: 400px;\n",
    "                    height: 300px;\n",
    "                    margin: 20px;\n",
    "                    border: 2px solid black;\n",
    "                    display: block;\n",
    "                }\n",
    "            </style>\n",
    "        </head>\n",
    "        <body>\n",
    "            <h1>Traffic Signal Simulation</h1>\n",
    "            <div class=\"lane-container\">\n",
    "                <div class=\"timer\" id=\"timer1\"></div>\n",
    "                <div class=\"lane red\" id=\"lane1\">Lane 1</div>\n",
    "            </div>\n",
    "            <div class=\"lane-container\">\n",
    "                <div class=\"timer\" id=\"timer2\"></div>\n",
    "                <div class=\"lane red\" id=\"lane2\">Lane 2</div>\n",
    "            </div>\n",
    "            <div class=\"lane-container\">\n",
    "                <div class=\"timer\" id=\"timer3\"></div>\n",
    "                <div class=\"lane red\" id=\"lane3\">Lane 3</div>\n",
    "            </div>\n",
    "            <div class=\"lane-container\">\n",
    "                <div class=\"timer\" id=\"timer4\"></div>\n",
    "                <div class=\"lane red\" id=\"lane4\">Lane 4</div>\n",
    "            </div>\n",
    "            <img src=\"/current_image\" id=\"traffic-image\" class=\"traffic-image\" alt=\"Traffic Image\">\n",
    "\n",
    "            <script>\n",
    "                function updateLaneColors() {\n",
    "                    fetch('/lane_status')\n",
    "                        .then(response => response.json())\n",
    "                        .then(data => {\n",
    "                            const lanes = data.status;\n",
    "                            const timers = data.timers;\n",
    "                            document.getElementById('lane1').className = 'lane ' + lanes[0];\n",
    "                            document.getElementById('lane2').className = 'lane ' + lanes[1];\n",
    "                            document.getElementById('lane3').className = 'lane ' + lanes[2];\n",
    "                            document.getElementById('lane4').className = 'lane ' + lanes[3];\n",
    "                            document.getElementById('timer1').textContent = timers[0] > 0 ? timers[0] + 's' : '';\n",
    "                            document.getElementById('timer2').textContent = timers[1] > 0 ? timers[1] + 's' : '';\n",
    "                            document.getElementById('timer3').textContent = timers[2] > 0 ? timers[2] + 's' : '';\n",
    "                            document.getElementById('timer4').textContent = timers[3] > 0 ? timers[3] + 's' : '';\n",
    "                        });\n",
    "                }\n",
    "\n",
    "                function updateTrafficImage() {\n",
    "                    document.getElementById('traffic-image').src = '/current_image?' + new Date().getTime();\n",
    "                }\n",
    "\n",
    "                // Update lane colors, timers, and traffic image every second\n",
    "                setInterval(updateLaneColors, 1000);\n",
    "                setInterval(updateTrafficImage, 1000);\n",
    "            </script>\n",
    "        </body>\n",
    "        </html>\n",
    "    ''')\n",
    "\n",
    "if __name__ == '__main__':\n",
    "    # Start Flask app in a separate thread\n",
    "    thread = Thread(target=lambda: app.run(host='0.0.0.0', port=5000, debug=False, use_reloader=False))\n",
    "    thread.start()\n",
    "\n",
    "    # Run the lane processing loop\n",
    "    while True:\n",
    "        process_lanes()\n"
   ]
  },
  {
   "cell_type": "code",
   "execution_count": 1,
   "id": "f9553bb5-ce39-430e-9c8b-006fe435206e",
   "metadata": {},
   "outputs": [
    {
     "name": "stderr",
     "output_type": "stream",
     "text": [
      "Using cache found in C:\\Users\\samki/.cache\\torch\\hub\\ultralytics_yolov5_master\n",
      "YOLOv5  2024-8-22 Python-3.12.5 torch-2.4.0+cpu CPU\n",
      "\n",
      "Fusing layers... \n",
      "YOLOv5l summary: 367 layers, 46533693 parameters, 0 gradients, 109.0 GFLOPs\n",
      "Adding AutoShape... \n"
     ]
    },
    {
     "name": "stdout",
     "output_type": "stream",
     "text": [
      " * Serving Flask app '__main__'\n",
      " * Debug mode: off\n"
     ]
    },
    {
     "name": "stderr",
     "output_type": "stream",
     "text": [
      "WARNING: This is a development server. Do not use it in a production deployment. Use a production WSGI server instead.\n",
      " * Running on all addresses (0.0.0.0)\n",
      " * Running on http://127.0.0.1:5000\n",
      " * Running on http://192.168.1.8:5000\n",
      "Press CTRL+C to quit\n",
      "192.168.1.8 - - [15/Sep/2024 13:03:08] \"GET / HTTP/1.1\" 200 -\n",
      "192.168.1.8 - - [15/Sep/2024 13:03:08] \"GET /current_image/0 HTTP/1.1\" 200 -\n",
      "192.168.1.8 - - [15/Sep/2024 13:03:09] \"GET /lane_status HTTP/1.1\" 200 -\n",
      "192.168.1.8 - - [15/Sep/2024 13:03:09] \"GET /current_image/0?v=1726385589856 HTTP/1.1\" 200 -\n"
     ]
    },
    {
     "name": "stdout",
     "output_type": "stream",
     "text": [
      "Lane 1: 23.15 sec green + 3 sec yellow | Vehicles: 21\n"
     ]
    },
    {
     "name": "stderr",
     "output_type": "stream",
     "text": [
      "192.168.1.8 - - [15/Sep/2024 13:03:10] \"GET /lane_status HTTP/1.1\" 200 -\n",
      "192.168.1.8 - - [15/Sep/2024 13:03:10] \"GET /current_image/0?v=1726385590865 HTTP/1.1\" 200 -\n",
      "192.168.1.8 - - [15/Sep/2024 13:03:11] \"GET /lane_status HTTP/1.1\" 200 -\n",
      "192.168.1.8 - - [15/Sep/2024 13:03:11] \"GET /current_image/0?v=1726385591891 HTTP/1.1\" 200 -\n",
      "192.168.1.8 - - [15/Sep/2024 13:03:12] \"GET /lane_status HTTP/1.1\" 200 -\n",
      "192.168.1.8 - - [15/Sep/2024 13:03:12] \"GET /current_image/0?v=1726385592863 HTTP/1.1\" 200 -\n",
      "192.168.1.8 - - [15/Sep/2024 13:03:13] \"GET /lane_status HTTP/1.1\" 200 -\n",
      "192.168.1.8 - - [15/Sep/2024 13:03:13] \"GET /current_image/0?v=1726385593855 HTTP/1.1\" 200 -\n",
      "192.168.1.8 - - [15/Sep/2024 13:03:14] \"GET /lane_status HTTP/1.1\" 200 -\n",
      "192.168.1.8 - - [15/Sep/2024 13:03:14] \"GET /current_image/0?v=1726385594855 HTTP/1.1\" 200 -\n",
      "192.168.1.8 - - [15/Sep/2024 13:03:15] \"GET /lane_status HTTP/1.1\" 200 -\n",
      "192.168.1.8 - - [15/Sep/2024 13:03:15] \"GET /current_image/0?v=1726385595851 HTTP/1.1\" 200 -\n",
      "192.168.1.8 - - [15/Sep/2024 13:03:16] \"GET /lane_status HTTP/1.1\" 200 -\n",
      "192.168.1.8 - - [15/Sep/2024 13:03:16] \"GET /current_image/0?v=1726385596866 HTTP/1.1\" 200 -\n",
      "192.168.1.8 - - [15/Sep/2024 13:03:17] \"GET /lane_status HTTP/1.1\" 200 -\n",
      "192.168.1.8 - - [15/Sep/2024 13:03:17] \"GET /current_image/0?v=1726385597865 HTTP/1.1\" 200 -\n",
      "192.168.1.8 - - [15/Sep/2024 13:03:18] \"GET /lane_status HTTP/1.1\" 200 -\n",
      "192.168.1.8 - - [15/Sep/2024 13:03:18] \"GET /current_image/0?v=1726385598859 HTTP/1.1\" 200 -\n",
      "192.168.1.8 - - [15/Sep/2024 13:03:19] \"GET /lane_status HTTP/1.1\" 200 -\n",
      "192.168.1.8 - - [15/Sep/2024 13:03:19] \"GET /current_image/0?v=1726385599853 HTTP/1.1\" 200 -\n",
      "192.168.1.8 - - [15/Sep/2024 13:03:20] \"GET /lane_status HTTP/1.1\" 200 -\n",
      "192.168.1.8 - - [15/Sep/2024 13:03:20] \"GET /current_image/0?v=1726385600852 HTTP/1.1\" 200 -\n",
      "192.168.1.8 - - [15/Sep/2024 13:03:21] \"GET /lane_status HTTP/1.1\" 200 -\n",
      "192.168.1.8 - - [15/Sep/2024 13:03:21] \"GET /current_image/0?v=1726385601860 HTTP/1.1\" 200 -\n",
      "192.168.1.8 - - [15/Sep/2024 13:03:22] \"GET /lane_status HTTP/1.1\" 200 -\n",
      "192.168.1.8 - - [15/Sep/2024 13:03:22] \"GET /current_image/0?v=1726385602886 HTTP/1.1\" 200 -\n",
      "192.168.1.8 - - [15/Sep/2024 13:03:23] \"GET /lane_status HTTP/1.1\" 200 -\n",
      "192.168.1.8 - - [15/Sep/2024 13:03:23] \"GET /current_image/0?v=1726385603862 HTTP/1.1\" 200 -\n",
      "192.168.1.8 - - [15/Sep/2024 13:03:24] \"GET /lane_status HTTP/1.1\" 200 -\n",
      "192.168.1.8 - - [15/Sep/2024 13:03:24] \"GET /current_image/0?v=1726385604862 HTTP/1.1\" 200 -\n",
      "192.168.1.8 - - [15/Sep/2024 13:03:25] \"GET /lane_status HTTP/1.1\" 200 -\n",
      "192.168.1.8 - - [15/Sep/2024 13:03:25] \"GET /current_image/0?v=1726385605856 HTTP/1.1\" 200 -\n",
      "192.168.1.8 - - [15/Sep/2024 13:03:26] \"GET /lane_status HTTP/1.1\" 200 -\n",
      "192.168.1.8 - - [15/Sep/2024 13:03:26] \"GET /current_image/0?v=1726385606883 HTTP/1.1\" 200 -\n",
      "192.168.1.8 - - [15/Sep/2024 13:03:27] \"GET /lane_status HTTP/1.1\" 200 -\n",
      "192.168.1.8 - - [15/Sep/2024 13:03:27] \"GET /current_image/0?v=1726385607860 HTTP/1.1\" 200 -\n",
      "192.168.1.8 - - [15/Sep/2024 13:03:28] \"GET /lane_status HTTP/1.1\" 200 -\n",
      "192.168.1.8 - - [15/Sep/2024 13:03:28] \"GET /current_image/0?v=1726385608855 HTTP/1.1\" 200 -\n",
      "192.168.1.8 - - [15/Sep/2024 13:03:29] \"GET /lane_status HTTP/1.1\" 200 -\n",
      "192.168.1.8 - - [15/Sep/2024 13:03:29] \"GET /current_image/0?v=1726385609851 HTTP/1.1\" 200 -\n",
      "192.168.1.8 - - [15/Sep/2024 13:03:30] \"GET /lane_status HTTP/1.1\" 200 -\n",
      "192.168.1.8 - - [15/Sep/2024 13:03:30] \"GET /current_image/0?v=1726385610890 HTTP/1.1\" 200 -\n",
      "192.168.1.8 - - [15/Sep/2024 13:03:31] \"GET /lane_status HTTP/1.1\" 200 -\n",
      "192.168.1.8 - - [15/Sep/2024 13:03:31] \"GET /current_image/0?v=1726385611866 HTTP/1.1\" 200 -\n",
      "192.168.1.8 - - [15/Sep/2024 13:03:32] \"GET /lane_status HTTP/1.1\" 200 -\n",
      "192.168.1.8 - - [15/Sep/2024 13:03:32] \"GET /current_image/0?v=1726385612855 HTTP/1.1\" 200 -\n"
     ]
    },
    {
     "name": "stdout",
     "output_type": "stream",
     "text": [
      "Lane 1 yellow light on.\n"
     ]
    },
    {
     "name": "stderr",
     "output_type": "stream",
     "text": [
      "192.168.1.8 - - [15/Sep/2024 13:03:33] \"GET /lane_status HTTP/1.1\" 200 -\n",
      "192.168.1.8 - - [15/Sep/2024 13:03:34] \"GET /lane_status HTTP/1.1\" 200 -\n",
      "192.168.1.8 - - [15/Sep/2024 13:03:35] \"GET /lane_status HTTP/1.1\" 200 -\n"
     ]
    },
    {
     "name": "stdout",
     "output_type": "stream",
     "text": [
      "Lane 1 red light on.\n"
     ]
    },
    {
     "name": "stderr",
     "output_type": "stream",
     "text": [
      "192.168.1.8 - - [15/Sep/2024 13:03:36] \"GET /lane_status HTTP/1.1\" 200 -\n",
      "192.168.1.8 - - [15/Sep/2024 13:03:36] \"GET /current_image/1?v=1726385616858 HTTP/1.1\" 200 -\n",
      "192.168.1.8 - - [15/Sep/2024 13:03:37] \"GET /lane_status HTTP/1.1\" 200 -\n",
      "192.168.1.8 - - [15/Sep/2024 13:03:37] \"GET /current_image/1?v=1726385617852 HTTP/1.1\" 200 -\n",
      "192.168.1.8 - - [15/Sep/2024 13:03:38] \"GET /lane_status HTTP/1.1\" 200 -\n",
      "192.168.1.8 - - [15/Sep/2024 13:03:38] \"GET /current_image/1?v=1726385618865 HTTP/1.1\" 200 -\n",
      "192.168.1.8 - - [15/Sep/2024 13:03:39] \"GET /lane_status HTTP/1.1\" 200 -\n",
      "192.168.1.8 - - [15/Sep/2024 13:03:39] \"GET /current_image/1?v=1726385619861 HTTP/1.1\" 200 -\n"
     ]
    },
    {
     "name": "stdout",
     "output_type": "stream",
     "text": [
      "Lane 2: 2.00 sec green + 3 sec yellow | Vehicles: 0\n"
     ]
    },
    {
     "name": "stderr",
     "output_type": "stream",
     "text": [
      "192.168.1.8 - - [15/Sep/2024 13:03:40] \"GET /lane_status HTTP/1.1\" 200 -\n",
      "192.168.1.8 - - [15/Sep/2024 13:03:40] \"GET /current_image/1?v=1726385620846 HTTP/1.1\" 200 -\n"
     ]
    },
    {
     "name": "stdout",
     "output_type": "stream",
     "text": [
      "Lane 2 yellow light on.\n"
     ]
    },
    {
     "name": "stderr",
     "output_type": "stream",
     "text": [
      "192.168.1.8 - - [15/Sep/2024 13:03:41] \"GET /lane_status HTTP/1.1\" 200 -\n",
      "192.168.1.8 - - [15/Sep/2024 13:03:42] \"GET /lane_status HTTP/1.1\" 200 -\n",
      "192.168.1.8 - - [15/Sep/2024 13:03:43] \"GET /lane_status HTTP/1.1\" 200 -\n"
     ]
    },
    {
     "name": "stdout",
     "output_type": "stream",
     "text": [
      "Lane 2 red light on.\n"
     ]
    },
    {
     "name": "stderr",
     "output_type": "stream",
     "text": [
      "192.168.1.8 - - [15/Sep/2024 13:03:44] \"GET /lane_status HTTP/1.1\" 200 -\n",
      "192.168.1.8 - - [15/Sep/2024 13:03:44] \"GET /current_image/2?v=1726385624857 HTTP/1.1\" 200 -\n",
      "192.168.1.8 - - [15/Sep/2024 13:03:45] \"GET /lane_status HTTP/1.1\" 200 -\n",
      "192.168.1.8 - - [15/Sep/2024 13:03:45] \"GET /current_image/2?v=1726385625850 HTTP/1.1\" 200 -\n"
     ]
    },
    {
     "name": "stdout",
     "output_type": "stream",
     "text": [
      "Lane 3: 15.09 sec green + 3 sec yellow | Vehicles: 13\n"
     ]
    },
    {
     "name": "stderr",
     "output_type": "stream",
     "text": [
      "192.168.1.8 - - [15/Sep/2024 13:03:46] \"GET /lane_status HTTP/1.1\" 200 -\n",
      "192.168.1.8 - - [15/Sep/2024 13:03:46] \"GET /current_image/2?v=1726385626858 HTTP/1.1\" 200 -\n",
      "192.168.1.8 - - [15/Sep/2024 13:03:47] \"GET /lane_status HTTP/1.1\" 200 -\n",
      "192.168.1.8 - - [15/Sep/2024 13:03:47] \"GET /current_image/2?v=1726385627856 HTTP/1.1\" 200 -\n",
      "192.168.1.8 - - [15/Sep/2024 13:03:48] \"GET /lane_status HTTP/1.1\" 200 -\n",
      "192.168.1.8 - - [15/Sep/2024 13:03:48] \"GET /current_image/2?v=1726385628852 HTTP/1.1\" 200 -\n",
      "192.168.1.8 - - [15/Sep/2024 13:03:49] \"GET /lane_status HTTP/1.1\" 200 -\n",
      "192.168.1.8 - - [15/Sep/2024 13:03:49] \"GET /current_image/2?v=1726385629858 HTTP/1.1\" 200 -\n",
      "192.168.1.8 - - [15/Sep/2024 13:03:50] \"GET /lane_status HTTP/1.1\" 200 -\n",
      "192.168.1.8 - - [15/Sep/2024 13:03:50] \"GET /current_image/2?v=1726385630850 HTTP/1.1\" 200 -\n",
      "192.168.1.8 - - [15/Sep/2024 13:03:51] \"GET /lane_status HTTP/1.1\" 200 -\n",
      "192.168.1.8 - - [15/Sep/2024 13:03:51] \"GET /current_image/2?v=1726385631863 HTTP/1.1\" 200 -\n",
      "192.168.1.8 - - [15/Sep/2024 13:03:52] \"GET /lane_status HTTP/1.1\" 200 -\n",
      "192.168.1.8 - - [15/Sep/2024 13:03:52] \"GET /current_image/2?v=1726385632869 HTTP/1.1\" 200 -\n",
      "192.168.1.8 - - [15/Sep/2024 13:03:53] \"GET /lane_status HTTP/1.1\" 200 -\n",
      "192.168.1.8 - - [15/Sep/2024 13:03:53] \"GET /current_image/2?v=1726385633856 HTTP/1.1\" 200 -\n",
      "192.168.1.8 - - [15/Sep/2024 13:03:54] \"GET /lane_status HTTP/1.1\" 200 -\n",
      "192.168.1.8 - - [15/Sep/2024 13:03:54] \"GET /current_image/2?v=1726385634858 HTTP/1.1\" 200 -\n",
      "192.168.1.8 - - [15/Sep/2024 13:03:55] \"GET /lane_status HTTP/1.1\" 200 -\n",
      "192.168.1.8 - - [15/Sep/2024 13:03:55] \"GET /current_image/2?v=1726385635857 HTTP/1.1\" 200 -\n",
      "192.168.1.8 - - [15/Sep/2024 13:03:56] \"GET /lane_status HTTP/1.1\" 200 -\n",
      "192.168.1.8 - - [15/Sep/2024 13:03:56] \"GET /current_image/2?v=1726385636850 HTTP/1.1\" 200 -\n",
      "192.168.1.8 - - [15/Sep/2024 13:03:57] \"GET /lane_status HTTP/1.1\" 200 -\n",
      "192.168.1.8 - - [15/Sep/2024 13:03:57] \"GET /current_image/2?v=1726385637858 HTTP/1.1\" 200 -\n",
      "192.168.1.8 - - [15/Sep/2024 13:03:58] \"GET /lane_status HTTP/1.1\" 200 -\n",
      "192.168.1.8 - - [15/Sep/2024 13:03:58] \"GET /current_image/2?v=1726385638890 HTTP/1.1\" 200 -\n",
      "192.168.1.8 - - [15/Sep/2024 13:03:59] \"GET /lane_status HTTP/1.1\" 200 -\n",
      "192.168.1.8 - - [15/Sep/2024 13:03:59] \"GET /current_image/2?v=1726385639858 HTTP/1.1\" 200 -\n",
      "192.168.1.8 - - [15/Sep/2024 13:04:00] \"GET /lane_status HTTP/1.1\" 200 -\n",
      "192.168.1.8 - - [15/Sep/2024 13:04:00] \"GET /current_image/2?v=1726385640850 HTTP/1.1\" 200 -\n"
     ]
    },
    {
     "name": "stdout",
     "output_type": "stream",
     "text": [
      "Lane 3 yellow light on.\n"
     ]
    },
    {
     "name": "stderr",
     "output_type": "stream",
     "text": [
      "192.168.1.8 - - [15/Sep/2024 13:04:01] \"GET /lane_status HTTP/1.1\" 200 -\n",
      "192.168.1.8 - - [15/Sep/2024 13:04:02] \"GET /lane_status HTTP/1.1\" 200 -\n",
      "192.168.1.8 - - [15/Sep/2024 13:04:03] \"GET /lane_status HTTP/1.1\" 200 -\n"
     ]
    },
    {
     "name": "stdout",
     "output_type": "stream",
     "text": [
      "Lane 3 red light on.\n"
     ]
    },
    {
     "name": "stderr",
     "output_type": "stream",
     "text": [
      "192.168.1.8 - - [15/Sep/2024 13:04:04] \"GET /lane_status HTTP/1.1\" 200 -\n",
      "192.168.1.8 - - [15/Sep/2024 13:04:04] \"GET /current_image/3?v=1726385644864 HTTP/1.1\" 200 -\n",
      "192.168.1.8 - - [15/Sep/2024 13:04:05] \"GET /lane_status HTTP/1.1\" 200 -\n",
      "192.168.1.8 - - [15/Sep/2024 13:04:05] \"GET /current_image/3?v=1726385645860 HTTP/1.1\" 200 -\n",
      "192.168.1.8 - - [15/Sep/2024 13:04:06] \"GET /lane_status HTTP/1.1\" 200 -\n",
      "192.168.1.8 - - [15/Sep/2024 13:04:06] \"GET /current_image/3?v=1726385646864 HTTP/1.1\" 200 -\n"
     ]
    },
    {
     "name": "stdout",
     "output_type": "stream",
     "text": [
      "Lane 4: 13.08 sec green + 3 sec yellow | Vehicles: 11\n"
     ]
    },
    {
     "name": "stderr",
     "output_type": "stream",
     "text": [
      "192.168.1.8 - - [15/Sep/2024 13:04:07] \"GET /lane_status HTTP/1.1\" 200 -\n",
      "192.168.1.8 - - [15/Sep/2024 13:04:07] \"GET /current_image/3?v=1726385647868 HTTP/1.1\" 200 -\n",
      "192.168.1.8 - - [15/Sep/2024 13:04:08] \"GET /lane_status HTTP/1.1\" 200 -\n",
      "192.168.1.8 - - [15/Sep/2024 13:04:08] \"GET /current_image/3?v=1726385648860 HTTP/1.1\" 200 -\n",
      "192.168.1.8 - - [15/Sep/2024 13:04:09] \"GET /lane_status HTTP/1.1\" 200 -\n",
      "192.168.1.8 - - [15/Sep/2024 13:04:09] \"GET /current_image/3?v=1726385649858 HTTP/1.1\" 200 -\n",
      "192.168.1.8 - - [15/Sep/2024 13:04:10] \"GET /lane_status HTTP/1.1\" 200 -\n",
      "192.168.1.8 - - [15/Sep/2024 13:04:10] \"GET /current_image/3?v=1726385650867 HTTP/1.1\" 200 -\n",
      "192.168.1.8 - - [15/Sep/2024 13:04:11] \"GET /lane_status HTTP/1.1\" 200 -\n",
      "192.168.1.8 - - [15/Sep/2024 13:04:11] \"GET /current_image/3?v=1726385651855 HTTP/1.1\" 200 -\n",
      "192.168.1.8 - - [15/Sep/2024 13:04:12] \"GET /lane_status HTTP/1.1\" 200 -\n",
      "192.168.1.8 - - [15/Sep/2024 13:04:12] \"GET /current_image/3?v=1726385652854 HTTP/1.1\" 200 -\n",
      "192.168.1.8 - - [15/Sep/2024 13:04:13] \"GET /lane_status HTTP/1.1\" 200 -\n",
      "192.168.1.8 - - [15/Sep/2024 13:04:13] \"GET /current_image/3?v=1726385653868 HTTP/1.1\" 200 -\n",
      "192.168.1.8 - - [15/Sep/2024 13:04:14] \"GET /lane_status HTTP/1.1\" 200 -\n",
      "192.168.1.8 - - [15/Sep/2024 13:04:14] \"GET /current_image/3?v=1726385654867 HTTP/1.1\" 200 -\n",
      "192.168.1.8 - - [15/Sep/2024 13:04:15] \"GET /lane_status HTTP/1.1\" 200 -\n",
      "192.168.1.8 - - [15/Sep/2024 13:04:15] \"GET /current_image/3?v=1726385655857 HTTP/1.1\" 200 -\n",
      "192.168.1.8 - - [15/Sep/2024 13:04:16] \"GET /lane_status HTTP/1.1\" 200 -\n",
      "192.168.1.8 - - [15/Sep/2024 13:04:16] \"GET /current_image/3?v=1726385656851 HTTP/1.1\" 200 -\n",
      "192.168.1.8 - - [15/Sep/2024 13:04:17] \"GET /lane_status HTTP/1.1\" 200 -\n",
      "192.168.1.8 - - [15/Sep/2024 13:04:17] \"GET /current_image/3?v=1726385657869 HTTP/1.1\" 200 -\n",
      "192.168.1.8 - - [15/Sep/2024 13:04:18] \"GET /lane_status HTTP/1.1\" 200 -\n",
      "192.168.1.8 - - [15/Sep/2024 13:04:18] \"GET /current_image/3?v=1726385658853 HTTP/1.1\" 200 -\n",
      "192.168.1.8 - - [15/Sep/2024 13:04:19] \"GET /lane_status HTTP/1.1\" 200 -\n",
      "192.168.1.8 - - [15/Sep/2024 13:04:19] \"GET /current_image/3?v=1726385659865 HTTP/1.1\" 200 -\n"
     ]
    },
    {
     "name": "stdout",
     "output_type": "stream",
     "text": [
      "Lane 4 yellow light on.\n"
     ]
    },
    {
     "name": "stderr",
     "output_type": "stream",
     "text": [
      "192.168.1.8 - - [15/Sep/2024 13:04:20] \"GET /lane_status HTTP/1.1\" 200 -\n",
      "192.168.1.8 - - [15/Sep/2024 13:04:21] \"GET /lane_status HTTP/1.1\" 200 -\n",
      "192.168.1.8 - - [15/Sep/2024 13:04:22] \"GET /lane_status HTTP/1.1\" 200 -\n"
     ]
    },
    {
     "name": "stdout",
     "output_type": "stream",
     "text": [
      "Lane 4 red light on.\n",
      "Completed one full cycle of lane processing.\n",
      "\n",
      "Total time for this iteration: 65.31 seconds\n",
      "\n"
     ]
    },
    {
     "name": "stderr",
     "output_type": "stream",
     "text": [
      "192.168.1.8 - - [15/Sep/2024 13:04:23] \"GET /lane_status HTTP/1.1\" 200 -\n",
      "192.168.1.8 - - [15/Sep/2024 13:04:24] \"GET /lane_status HTTP/1.1\" 200 -\n",
      "192.168.1.8 - - [15/Sep/2024 13:04:24] \"GET /current_image/0?v=1726385664854 HTTP/1.1\" 200 -\n",
      "192.168.1.8 - - [15/Sep/2024 13:04:25] \"GET /lane_status HTTP/1.1\" 200 -\n",
      "192.168.1.8 - - [15/Sep/2024 13:04:25] \"GET /current_image/0?v=1726385665850 HTTP/1.1\" 200 -\n"
     ]
    },
    {
     "name": "stdout",
     "output_type": "stream",
     "text": [
      "Lane 1: 23.15 sec green + 3 sec yellow | Vehicles: 21\n"
     ]
    },
    {
     "name": "stderr",
     "output_type": "stream",
     "text": [
      "192.168.1.8 - - [15/Sep/2024 13:04:26] \"GET /lane_status HTTP/1.1\" 200 -\n",
      "192.168.1.8 - - [15/Sep/2024 13:04:26] \"GET /current_image/0?v=1726385666863 HTTP/1.1\" 200 -\n",
      "192.168.1.8 - - [15/Sep/2024 13:04:27] \"GET /lane_status HTTP/1.1\" 200 -\n",
      "192.168.1.8 - - [15/Sep/2024 13:04:27] \"GET /current_image/0?v=1726385667858 HTTP/1.1\" 200 -\n",
      "192.168.1.8 - - [15/Sep/2024 13:04:28] \"GET /lane_status HTTP/1.1\" 200 -\n",
      "192.168.1.8 - - [15/Sep/2024 13:04:28] \"GET /current_image/0?v=1726385668851 HTTP/1.1\" 200 -\n",
      "192.168.1.8 - - [15/Sep/2024 13:04:29] \"GET /lane_status HTTP/1.1\" 200 -\n",
      "192.168.1.8 - - [15/Sep/2024 13:04:29] \"GET /current_image/0?v=1726385669857 HTTP/1.1\" 200 -\n",
      "192.168.1.8 - - [15/Sep/2024 13:04:30] \"GET /lane_status HTTP/1.1\" 200 -\n",
      "192.168.1.8 - - [15/Sep/2024 13:04:30] \"GET /current_image/0?v=1726385670860 HTTP/1.1\" 200 -\n",
      "192.168.1.8 - - [15/Sep/2024 13:04:31] \"GET /lane_status HTTP/1.1\" 200 -\n",
      "192.168.1.8 - - [15/Sep/2024 13:04:31] \"GET /current_image/0?v=1726385671858 HTTP/1.1\" 200 -\n",
      "192.168.1.8 - - [15/Sep/2024 13:04:32] \"GET /lane_status HTTP/1.1\" 200 -\n",
      "192.168.1.8 - - [15/Sep/2024 13:04:32] \"GET /current_image/0?v=1726385672868 HTTP/1.1\" 200 -\n",
      "192.168.1.8 - - [15/Sep/2024 13:04:33] \"GET /lane_status HTTP/1.1\" 200 -\n",
      "192.168.1.8 - - [15/Sep/2024 13:04:33] \"GET /current_image/0?v=1726385673861 HTTP/1.1\" 200 -\n",
      "192.168.1.8 - - [15/Sep/2024 13:04:34] \"GET /lane_status HTTP/1.1\" 200 -\n",
      "192.168.1.8 - - [15/Sep/2024 13:04:34] \"GET /current_image/0?v=1726385674852 HTTP/1.1\" 200 -\n",
      "192.168.1.8 - - [15/Sep/2024 13:04:36] \"GET /lane_status HTTP/1.1\" 200 -\n",
      "192.168.1.8 - - [15/Sep/2024 13:04:36] \"GET /current_image/0?v=1726385676081 HTTP/1.1\" 200 -\n",
      "192.168.1.8 - - [15/Sep/2024 13:04:37] \"GET /lane_status HTTP/1.1\" 200 -\n",
      "192.168.1.8 - - [15/Sep/2024 13:04:37] \"GET /current_image/0?v=1726385677072 HTTP/1.1\" 200 -\n",
      "192.168.1.8 - - [15/Sep/2024 13:04:38] \"GET /lane_status HTTP/1.1\" 200 -\n",
      "192.168.1.8 - - [15/Sep/2024 13:04:38] \"GET /current_image/0?v=1726385678083 HTTP/1.1\" 200 -\n",
      "192.168.1.8 - - [15/Sep/2024 13:04:39] \"GET /lane_status HTTP/1.1\" 200 -\n",
      "192.168.1.8 - - [15/Sep/2024 13:04:39] \"GET /current_image/0?v=1726385679074 HTTP/1.1\" 200 -\n",
      "192.168.1.8 - - [15/Sep/2024 13:04:40] \"GET /lane_status HTTP/1.1\" 200 -\n",
      "192.168.1.8 - - [15/Sep/2024 13:04:40] \"GET /current_image/0?v=1726385680084 HTTP/1.1\" 200 -\n",
      "192.168.1.8 - - [15/Sep/2024 13:04:40] \"GET /lane_status HTTP/1.1\" 200 -\n",
      "192.168.1.8 - - [15/Sep/2024 13:04:41] \"GET /current_image/0?v=1726385681002 HTTP/1.1\" 200 -\n",
      "192.168.1.8 - - [15/Sep/2024 13:04:42] \"GET /lane_status HTTP/1.1\" 200 -\n",
      "192.168.1.8 - - [15/Sep/2024 13:04:42] \"GET /current_image/0?v=1726385682082 HTTP/1.1\" 200 -\n",
      "192.168.1.8 - - [15/Sep/2024 13:04:43] \"GET /lane_status HTTP/1.1\" 200 -\n",
      "192.168.1.8 - - [15/Sep/2024 13:04:43] \"GET /current_image/0?v=1726385683074 HTTP/1.1\" 200 -\n",
      "192.168.1.8 - - [15/Sep/2024 13:04:44] \"GET /lane_status HTTP/1.1\" 200 -\n",
      "192.168.1.8 - - [15/Sep/2024 13:04:44] \"GET /current_image/0?v=1726385684078 HTTP/1.1\" 200 -\n",
      "192.168.1.8 - - [15/Sep/2024 13:04:45] \"GET /lane_status HTTP/1.1\" 200 -\n",
      "192.168.1.8 - - [15/Sep/2024 13:04:45] \"GET /current_image/0?v=1726385685071 HTTP/1.1\" 200 -\n",
      "192.168.1.8 - - [15/Sep/2024 13:04:46] \"GET /lane_status HTTP/1.1\" 200 -\n",
      "192.168.1.8 - - [15/Sep/2024 13:04:46] \"GET /current_image/0?v=1726385686081 HTTP/1.1\" 200 -\n",
      "192.168.1.8 - - [15/Sep/2024 13:04:47] \"GET /lane_status HTTP/1.1\" 200 -\n",
      "192.168.1.8 - - [15/Sep/2024 13:04:47] \"GET /current_image/0?v=1726385687080 HTTP/1.1\" 200 -\n",
      "192.168.1.8 - - [15/Sep/2024 13:04:48] \"GET /lane_status HTTP/1.1\" 200 -\n",
      "192.168.1.8 - - [15/Sep/2024 13:04:48] \"GET /current_image/0?v=1726385688078 HTTP/1.1\" 200 -\n",
      "192.168.1.8 - - [15/Sep/2024 13:04:49] \"GET /lane_status HTTP/1.1\" 200 -\n"
     ]
    },
    {
     "name": "stdout",
     "output_type": "stream",
     "text": [
      "Lane 1 yellow light on.\n"
     ]
    },
    {
     "name": "stderr",
     "output_type": "stream",
     "text": [
      "192.168.1.8 - - [15/Sep/2024 13:04:50] \"GET /lane_status HTTP/1.1\" 200 -\n",
      "192.168.1.8 - - [15/Sep/2024 13:04:51] \"GET /lane_status HTTP/1.1\" 200 -\n",
      "192.168.1.8 - - [15/Sep/2024 13:04:52] \"GET /lane_status HTTP/1.1\" 200 -\n",
      "192.168.1.8 - - [15/Sep/2024 13:04:52] \"GET /current_image/1?v=1726385692115 HTTP/1.1\" 200 -\n"
     ]
    },
    {
     "name": "stdout",
     "output_type": "stream",
     "text": [
      "Lane 1 red light on.\n"
     ]
    },
    {
     "name": "stderr",
     "output_type": "stream",
     "text": [
      "192.168.1.8 - - [15/Sep/2024 13:04:53] \"GET /lane_status HTTP/1.1\" 200 -\n",
      "192.168.1.8 - - [15/Sep/2024 13:04:53] \"GET /current_image/1?v=1726385693080 HTTP/1.1\" 200 -\n",
      "192.168.1.8 - - [15/Sep/2024 13:04:54] \"GET /lane_status HTTP/1.1\" 200 -\n",
      "192.168.1.8 - - [15/Sep/2024 13:04:54] \"GET /current_image/1?v=1726385694089 HTTP/1.1\" 200 -\n"
     ]
    },
    {
     "name": "stdout",
     "output_type": "stream",
     "text": [
      "Lane 2: 2.00 sec green + 3 sec yellow | Vehicles: 0\n"
     ]
    },
    {
     "name": "stderr",
     "output_type": "stream",
     "text": [
      "192.168.1.8 - - [15/Sep/2024 13:04:55] \"GET /lane_status HTTP/1.1\" 200 -\n",
      "192.168.1.8 - - [15/Sep/2024 13:04:55] \"GET /current_image/1?v=1726385695084 HTTP/1.1\" 200 -\n"
     ]
    },
    {
     "name": "stdout",
     "output_type": "stream",
     "text": [
      "Lane 2 yellow light on.\n"
     ]
    },
    {
     "name": "stderr",
     "output_type": "stream",
     "text": [
      "192.168.1.8 - - [15/Sep/2024 13:04:56] \"GET /lane_status HTTP/1.1\" 200 -\n",
      "192.168.1.8 - - [15/Sep/2024 13:04:57] \"GET /lane_status HTTP/1.1\" 200 -\n",
      "192.168.1.8 - - [15/Sep/2024 13:04:58] \"GET /lane_status HTTP/1.1\" 200 -\n"
     ]
    },
    {
     "name": "stdout",
     "output_type": "stream",
     "text": [
      "Lane 2 red light on.\n"
     ]
    },
    {
     "name": "stderr",
     "output_type": "stream",
     "text": [
      "192.168.1.8 - - [15/Sep/2024 13:04:59] \"GET /lane_status HTTP/1.1\" 200 -\n",
      "192.168.1.8 - - [15/Sep/2024 13:04:59] \"GET /current_image/2?v=1726385699084 HTTP/1.1\" 200 -\n",
      "192.168.1.8 - - [15/Sep/2024 13:05:00] \"GET /lane_status HTTP/1.1\" 200 -\n",
      "192.168.1.8 - - [15/Sep/2024 13:05:00] \"GET /current_image/2?v=1726385700073 HTTP/1.1\" 200 -\n"
     ]
    },
    {
     "name": "stdout",
     "output_type": "stream",
     "text": [
      "Lane 3: 15.09 sec green + 3 sec yellow | Vehicles: 13\n"
     ]
    },
    {
     "name": "stderr",
     "output_type": "stream",
     "text": [
      "192.168.1.8 - - [15/Sep/2024 13:05:01] \"GET /lane_status HTTP/1.1\" 200 -\n",
      "192.168.1.8 - - [15/Sep/2024 13:05:01] \"GET /current_image/2?v=1726385701085 HTTP/1.1\" 200 -\n",
      "192.168.1.8 - - [15/Sep/2024 13:05:02] \"GET /lane_status HTTP/1.1\" 200 -\n",
      "192.168.1.8 - - [15/Sep/2024 13:05:02] \"GET /current_image/2?v=1726385702087 HTTP/1.1\" 200 -\n",
      "192.168.1.8 - - [15/Sep/2024 13:05:03] \"GET /lane_status HTTP/1.1\" 200 -\n",
      "192.168.1.8 - - [15/Sep/2024 13:05:03] \"GET /current_image/2?v=1726385703082 HTTP/1.1\" 200 -\n",
      "192.168.1.8 - - [15/Sep/2024 13:05:04] \"GET /lane_status HTTP/1.1\" 200 -\n",
      "192.168.1.8 - - [15/Sep/2024 13:05:04] \"GET /current_image/2?v=1726385704085 HTTP/1.1\" 200 -\n",
      "192.168.1.8 - - [15/Sep/2024 13:05:05] \"GET /lane_status HTTP/1.1\" 200 -\n",
      "192.168.1.8 - - [15/Sep/2024 13:05:05] \"GET /current_image/2?v=1726385705090 HTTP/1.1\" 200 -\n",
      "192.168.1.8 - - [15/Sep/2024 13:05:06] \"GET /lane_status HTTP/1.1\" 200 -\n",
      "192.168.1.8 - - [15/Sep/2024 13:05:06] \"GET /current_image/2?v=1726385706084 HTTP/1.1\" 200 -\n",
      "192.168.1.8 - - [15/Sep/2024 13:05:07] \"GET /lane_status HTTP/1.1\" 200 -\n",
      "192.168.1.8 - - [15/Sep/2024 13:05:07] \"GET /current_image/2?v=1726385707092 HTTP/1.1\" 200 -\n",
      "192.168.1.8 - - [15/Sep/2024 13:05:08] \"GET /lane_status HTTP/1.1\" 200 -\n",
      "192.168.1.8 - - [15/Sep/2024 13:05:08] \"GET /current_image/2?v=1726385708088 HTTP/1.1\" 200 -\n",
      "192.168.1.8 - - [15/Sep/2024 13:05:09] \"GET /lane_status HTTP/1.1\" 200 -\n",
      "192.168.1.8 - - [15/Sep/2024 13:05:09] \"GET /current_image/2?v=1726385709078 HTTP/1.1\" 200 -\n",
      "192.168.1.8 - - [15/Sep/2024 13:05:10] \"GET /lane_status HTTP/1.1\" 200 -\n",
      "192.168.1.8 - - [15/Sep/2024 13:05:10] \"GET /current_image/2?v=1726385710073 HTTP/1.1\" 200 -\n",
      "192.168.1.8 - - [15/Sep/2024 13:05:11] \"GET /lane_status HTTP/1.1\" 200 -\n",
      "192.168.1.8 - - [15/Sep/2024 13:05:11] \"GET /current_image/2?v=1726385711097 HTTP/1.1\" 200 -\n",
      "192.168.1.8 - - [15/Sep/2024 13:05:12] \"GET /lane_status HTTP/1.1\" 200 -\n",
      "192.168.1.8 - - [15/Sep/2024 13:05:12] \"GET /current_image/2?v=1726385712084 HTTP/1.1\" 200 -\n",
      "192.168.1.8 - - [15/Sep/2024 13:05:13] \"GET /lane_status HTTP/1.1\" 200 -\n",
      "192.168.1.8 - - [15/Sep/2024 13:05:13] \"GET /current_image/2?v=1726385713094 HTTP/1.1\" 200 -\n",
      "192.168.1.8 - - [15/Sep/2024 13:05:14] \"GET /lane_status HTTP/1.1\" 200 -\n",
      "192.168.1.8 - - [15/Sep/2024 13:05:14] \"GET /current_image/2?v=1726385714087 HTTP/1.1\" 200 -\n",
      "192.168.1.8 - - [15/Sep/2024 13:05:15] \"GET /lane_status HTTP/1.1\" 200 -\n",
      "192.168.1.8 - - [15/Sep/2024 13:05:15] \"GET /current_image/2?v=1726385715094 HTTP/1.1\" 200 -\n"
     ]
    },
    {
     "name": "stdout",
     "output_type": "stream",
     "text": [
      "Lane 3 yellow light on.\n"
     ]
    },
    {
     "name": "stderr",
     "output_type": "stream",
     "text": [
      "192.168.1.8 - - [15/Sep/2024 13:05:16] \"GET /lane_status HTTP/1.1\" 200 -\n",
      "192.168.1.8 - - [15/Sep/2024 13:05:17] \"GET /lane_status HTTP/1.1\" 200 -\n",
      "192.168.1.8 - - [15/Sep/2024 13:05:18] \"GET /lane_status HTTP/1.1\" 200 -\n"
     ]
    },
    {
     "ename": "KeyboardInterrupt",
     "evalue": "",
     "output_type": "error",
     "traceback": [
      "\u001b[1;31m---------------------------------------------------------------------------\u001b[0m",
      "\u001b[1;31mKeyboardInterrupt\u001b[0m                         Traceback (most recent call last)",
      "Cell \u001b[1;32mIn[1], line 264\u001b[0m\n\u001b[0;32m    262\u001b[0m \u001b[38;5;66;03m# Start the lane processing loop\u001b[39;00m\n\u001b[0;32m    263\u001b[0m \u001b[38;5;28;01mwhile\u001b[39;00m \u001b[38;5;28;01mTrue\u001b[39;00m:\n\u001b[1;32m--> 264\u001b[0m     \u001b[43mprocess_lanes\u001b[49m\u001b[43m(\u001b[49m\u001b[43m)\u001b[49m\n\u001b[0;32m    265\u001b[0m     time\u001b[38;5;241m.\u001b[39msleep(\u001b[38;5;241m1\u001b[39m)\n",
      "Cell \u001b[1;32mIn[1], line 124\u001b[0m, in \u001b[0;36mprocess_lanes\u001b[1;34m()\u001b[0m\n\u001b[0;32m    122\u001b[0m \u001b[38;5;28mprint\u001b[39m(\u001b[38;5;124mf\u001b[39m\u001b[38;5;124m\"\u001b[39m\u001b[38;5;124mLane \u001b[39m\u001b[38;5;132;01m{\u001b[39;00mlane_index\u001b[38;5;250m \u001b[39m\u001b[38;5;241m+\u001b[39m\u001b[38;5;250m \u001b[39m\u001b[38;5;241m1\u001b[39m\u001b[38;5;132;01m}\u001b[39;00m\u001b[38;5;124m yellow light on.\u001b[39m\u001b[38;5;124m\"\u001b[39m)\n\u001b[0;32m    123\u001b[0m update_lane_status()  \u001b[38;5;66;03m# Update the web display\u001b[39;00m\n\u001b[1;32m--> 124\u001b[0m \u001b[43mtime\u001b[49m\u001b[38;5;241;43m.\u001b[39;49m\u001b[43msleep\u001b[49m\u001b[43m(\u001b[49m\u001b[43mYELLOW_LIGHT_DURATION\u001b[49m\u001b[43m)\u001b[49m\n\u001b[0;32m    126\u001b[0m lane_status[lane_index] \u001b[38;5;241m=\u001b[39m \u001b[38;5;124m\"\u001b[39m\u001b[38;5;124mred\u001b[39m\u001b[38;5;124m\"\u001b[39m\n\u001b[0;32m    127\u001b[0m \u001b[38;5;28mprint\u001b[39m(\u001b[38;5;124mf\u001b[39m\u001b[38;5;124m\"\u001b[39m\u001b[38;5;124mLane \u001b[39m\u001b[38;5;132;01m{\u001b[39;00mlane_index\u001b[38;5;250m \u001b[39m\u001b[38;5;241m+\u001b[39m\u001b[38;5;250m \u001b[39m\u001b[38;5;241m1\u001b[39m\u001b[38;5;132;01m}\u001b[39;00m\u001b[38;5;124m red light on.\u001b[39m\u001b[38;5;124m\"\u001b[39m)\n",
      "\u001b[1;31mKeyboardInterrupt\u001b[0m: "
     ]
    },
    {
     "name": "stderr",
     "output_type": "stream",
     "text": [
      "192.168.1.8 - - [15/Sep/2024 13:05:18] \"GET /lane_status HTTP/1.1\" 200 -\n"
     ]
    }
   ],
   "source": [
    "import cv2\n",
    "import torch\n",
    "import warnings\n",
    "import numpy as np\n",
    "import random\n",
    "from sklearn.linear_model import LinearRegression\n",
    "import time\n",
    "from flask import Flask, render_template_string, jsonify, send_file\n",
    "from threading import Thread\n",
    "import os\n",
    "\n",
    "# Suppress all Future Warning messages\n",
    "warnings.simplefilter(action='ignore', category=FutureWarning)\n",
    "\n",
    "# Initialize Flask app\n",
    "app = Flask(__name__)\n",
    "\n",
    "# Linear Regression Model\n",
    "data = np.array([\n",
    "    [0, 0],\n",
    "    [2, 4],\n",
    "    [5, 7],\n",
    "    [10, 14],\n",
    "    [15, 17],\n",
    "    [20, 23],\n",
    "    [25, 28],\n",
    "    [30, 33],\n",
    "    [35, 35],\n",
    "])\n",
    "X = data[:, 0].reshape(-1, 1)\n",
    "y = data[:, 1]\n",
    "\n",
    "model_L = LinearRegression()\n",
    "model_L.fit(X, y)\n",
    "\n",
    "# Load a larger YOLOv5 model for better detection\n",
    "model = torch.hub.load('ultralytics/yolov5', 'yolov5l')\n",
    "\n",
    "# Set constants\n",
    "GREEN_LIGHT_THRESHOLD = 35 \n",
    "YELLOW_LIGHT_DURATION = 3    \n",
    "\n",
    "# Initialize lane status, current image, and timers\n",
    "lane_status = [\"red\", \"red\", \"red\", \"red\"]\n",
    "current_image_paths = [\"\", \"\", \"\", \"\"]\n",
    "lane_timers = [0, 0, 0, 0]\n",
    "vehicle_counts = [0, 0, 0, 0]\n",
    "\n",
    "# Image paths for each lane\n",
    "path = \"F:/SIH/Data/img/\"\n",
    "image_paths = [\n",
    "    path+\"1.jpeg\", path+\"2.jpeg\", path+\"3.jpeg\", path+\"4.jpeg\",\n",
    "    \n",
    "]\n",
    "\n",
    "# Organize into tuples of 4 images each\n",
    "lane_image_sets = [tuple(image_paths[i:i+4]) for i in range(0, len(image_paths), 4)]\n",
    "\n",
    "# Initialize a global counter for image sets\n",
    "current_image_set_index = 0\n",
    "\n",
    "# Function to count vehicles in a single lane using YOLO\n",
    "def count_vehicles(frame):\n",
    "    results = model(frame)\n",
    "    detections = results.pandas().xyxy[0]\n",
    "    vehicle_classes = ['car', 'truck', 'bus', 'motorcycle', 'bicycle', 'scooty']\n",
    "    \n",
    "    # Filter by vehicle class and confidence threshold\n",
    "    detections = detections[(detections['name'].isin(vehicle_classes)) & (detections['confidence'] > 0.3)]\n",
    "    \n",
    "    return detections.shape[0]\n",
    "\n",
    "def predict_time(vehicle_count):\n",
    "    return model_L.predict(np.array([[vehicle_count]]))[0]\n",
    "\n",
    "def calculate_clearance_time(vehicle_count):\n",
    "    clearance_time = min(predict_time(vehicle_count), GREEN_LIGHT_THRESHOLD)\n",
    "    return clearance_time\n",
    "\n",
    "# Update lane status function (placeholder)\n",
    "def update_lane_status():\n",
    "    pass  # Flask will handle UI updates by fetching data\n",
    "\n",
    "# Function to process lanes\n",
    "def process_lanes():\n",
    "    global lane_status, current_image_paths, lane_timers, vehicle_counts, current_image_set_index\n",
    "    total_time = 0\n",
    "\n",
    "    # Loop through each lane to process\n",
    "    for lane_index in range(len(lane_status)):  # Iterate over lanes\n",
    "        # Reset all lanes to red\n",
    "        lane_status = [\"red\"] * 4\n",
    "        lane_timers = [0] * 4\n",
    "        vehicle_counts = [0] * 4\n",
    "\n",
    "        # Simulate green light for the current lane\n",
    "        lane_status[lane_index] = \"green\"\n",
    "\n",
    "        # Use the current set of images, rotating through all available sets\n",
    "        current_image_paths = lane_image_sets[current_image_set_index]\n",
    "\n",
    "        # Load the image for the current lane\n",
    "        frame = cv2.imread(current_image_paths[lane_index])\n",
    "\n",
    "        # Process the frame to count vehicles\n",
    "        vehicle_count = count_vehicles(frame)\n",
    "        vehicle_counts[lane_index] = vehicle_count  # Store the vehicle count\n",
    "        clearance_time = calculate_clearance_time(vehicle_count)\n",
    "        lane_timers[lane_index] = int(clearance_time)\n",
    "\n",
    "        print(f\"Lane {lane_index + 1}: {clearance_time:.2f} sec green + {YELLOW_LIGHT_DURATION} sec yellow | Vehicles: {vehicle_count}\")\n",
    "        update_lane_status()  # Update the web display\n",
    "\n",
    "        # Wait for the green light duration to complete\n",
    "        while lane_timers[lane_index] > 0:\n",
    "            time.sleep(1)\n",
    "            lane_timers[lane_index] -= 1\n",
    "            update_lane_status()  # Update the web display\n",
    "\n",
    "        # Simulate yellow light\n",
    "        lane_status[lane_index] = \"yellow\"\n",
    "        print(f\"Lane {lane_index + 1} yellow light on.\")\n",
    "        update_lane_status()  # Update the web display\n",
    "        time.sleep(YELLOW_LIGHT_DURATION)\n",
    "\n",
    "        lane_status[lane_index] = \"red\"\n",
    "        print(f\"Lane {lane_index + 1} red light on.\")\n",
    "        update_lane_status()  # Update the web display\n",
    "        total_time += clearance_time + YELLOW_LIGHT_DURATION\n",
    "\n",
    "    # Move to the next set of images for the next iteration\n",
    "    current_image_set_index = (current_image_set_index + 1) % len(lane_image_sets)\n",
    "\n",
    "    print(\"Completed one full cycle of lane processing.\\n\")\n",
    "    print(f\"Total time for this iteration: {total_time:.2f} seconds\\n\")\n",
    "\n",
    "# Flask route to serve the lane status\n",
    "@app.route('/lane_status')\n",
    "def get_lane_status():\n",
    "    return jsonify({\n",
    "        \"status\": lane_status,\n",
    "        \"timers\": lane_timers,\n",
    "        \"vehicle_counts\": vehicle_counts\n",
    "    })\n",
    "\n",
    "# Flask route to serve the current image for a specific lane\n",
    "@app.route('/current_image/<int:lane>')\n",
    "def get_current_image(lane):\n",
    "    if current_image_paths and os.path.exists(current_image_paths[lane]):\n",
    "        return send_file(current_image_paths[lane], mimetype='image/jpeg')\n",
    "    else:\n",
    "        return \"\", 404\n",
    "\n",
    "# Integrated HTML template with Flask\n",
    "@app.route('/')\n",
    "def index():\n",
    "    return render_template_string('''\n",
    "        <!DOCTYPE html>\n",
    "        <html lang=\"en\">\n",
    "        <head>\n",
    "            <meta charset=\"UTF-8\">\n",
    "            <meta name=\"viewport\" content=\"width=device-width, initial-scale=1.0\">\n",
    "            <title>Traffic Signal Simulation</title>\n",
    "            <style>\n",
    "                .lane-container {\n",
    "                    display: inline-block;\n",
    "                    text-align: center;\n",
    "                    margin: 20px;\n",
    "                }\n",
    "                .lane {\n",
    "                    width: 100px;\n",
    "                    height: 100px;\n",
    "                    border: 2px solid black;\n",
    "                    line-height: 100px;\n",
    "                    font-size: 20px;\n",
    "                    color: white;\n",
    "                    font-weight: bold;\n",
    "                    border-radius: 50%;\n",
    "                    position: relative;\n",
    "                }\n",
    "                .red { background-color: red; }\n",
    "                .yellow { background-color: yellow; color: black; }\n",
    "                .green { background-color: green; }\n",
    "                .timer {\n",
    "                    font-size: 18px;\n",
    "                    color: black;\n",
    "                    font-weight: bold;\n",
    "                    margin-bottom: 10px;\n",
    "                }\n",
    "                .traffic-image {\n",
    "                    width: 400px;\n",
    "                    height: 300px;\n",
    "                    margin: 20px;\n",
    "                    border: 2px solid black;\n",
    "                    display: block;\n",
    "                }\n",
    "            </style>\n",
    "        </head>\n",
    "        <body>\n",
    "            <h1>Traffic Signal Simulation</h1>\n",
    "            <div class=\"lane-container\">\n",
    "                <div class=\"timer\" id=\"timer1\"></div>\n",
    "                <div class=\"lane red\" id=\"lane1\">Lane 1</div>\n",
    "                <div id=\"vehicle_count1\" class=\"timer\"></div>\n",
    "            </div>\n",
    "            <div class=\"lane-container\">\n",
    "                <div class=\"timer\" id=\"timer2\"></div>\n",
    "                <div class=\"lane red\" id=\"lane2\">Lane 2</div>\n",
    "                <div id=\"vehicle_count2\" class=\"timer\"></div>\n",
    "            </div>\n",
    "            <div class=\"lane-container\">\n",
    "                <div class=\"timer\" id=\"timer3\"></div>\n",
    "                <div class=\"lane red\" id=\"lane3\">Lane 3</div>\n",
    "                <div id=\"vehicle_count3\" class=\"timer\"></div>\n",
    "            </div>\n",
    "            <div class=\"lane-container\">\n",
    "                <div class=\"timer\" id=\"timer4\"></div>\n",
    "                <div class=\"lane red\" id=\"lane4\">Lane 4</div>\n",
    "                <div id=\"vehicle_count4\" class=\"timer\"></div>\n",
    "            </div>\n",
    "            <img src=\"/current_image/0\" id=\"traffic-image\" class=\"traffic-image\" alt=\"Traffic Image\">\n",
    "\n",
    "            <script>\n",
    "                function updateLaneColors() {\n",
    "                    fetch('/lane_status')\n",
    "                        .then(response => response.json())\n",
    "                        .then(data => {\n",
    "                            const lanes = data.status;\n",
    "                            const timers = data.timers;\n",
    "                            const vehicleCounts = data.vehicle_counts;\n",
    "                            document.getElementById('lane1').className = 'lane ' + lanes[0];\n",
    "                            document.getElementById('lane2').className = 'lane ' + lanes[1];\n",
    "                            document.getElementById('lane3').className = 'lane ' + lanes[2];\n",
    "                            document.getElementById('lane4').className = 'lane ' + lanes[3];\n",
    "                            document.getElementById('timer1').innerText = timers[0] + ' sec';\n",
    "                            document.getElementById('timer2').innerText = timers[1] + ' sec';\n",
    "                            document.getElementById('timer3').innerText = timers[2] + ' sec';\n",
    "                            document.getElementById('timer4').innerText = timers[3] + ' sec';\n",
    "                            document.getElementById('vehicle_count1').innerText = 'Vehicles: ' + vehicleCounts[0];\n",
    "                            document.getElementById('vehicle_count2').innerText = 'Vehicles: ' + vehicleCounts[1];\n",
    "                            document.getElementById('vehicle_count3').innerText = 'Vehicles: ' + vehicleCounts[2];\n",
    "                            document.getElementById('vehicle_count4').innerText = 'Vehicles: ' + vehicleCounts[3];\n",
    "\n",
    "                            // Update the traffic image based on the current lane status\n",
    "                            const activeLane = lanes.indexOf('green');\n",
    "                            if (activeLane !== -1) {\n",
    "                                document.getElementById('traffic-image').src = '/current_image/' + activeLane + '?v=' + new Date().getTime();\n",
    "                            }\n",
    "                        });\n",
    "                }\n",
    "\n",
    "                setInterval(updateLaneColors, 1000);  // Update every second\n",
    "            </script>\n",
    "        </body>\n",
    "        </html>\n",
    "    ''')\n",
    "\n",
    "# Start the lane processing in a separate thread\n",
    "thread_flask = Thread(target=lambda: app.run(host='0.0.0.0', port=5000, debug=False, use_reloader=False))\n",
    "thread_flask.start()\n",
    "\n",
    "# Start the lane processing loop\n",
    "while True:\n",
    "    process_lanes()\n",
    "    time.sleep(1)\n"
   ]
  },
  {
   "cell_type": "code",
   "execution_count": null,
   "id": "ec3a13db-67d9-42bd-a662-03dd662213c4",
   "metadata": {},
   "outputs": [],
   "source": []
  }
 ],
 "metadata": {
  "kernelspec": {
   "display_name": "Python [conda env:base] *",
   "language": "python",
   "name": "conda-base-py"
  },
  "language_info": {
   "codemirror_mode": {
    "name": "ipython",
    "version": 3
   },
   "file_extension": ".py",
   "mimetype": "text/x-python",
   "name": "python",
   "nbconvert_exporter": "python",
   "pygments_lexer": "ipython3",
   "version": "3.12.7"
  }
 },
 "nbformat": 4,
 "nbformat_minor": 5
}
